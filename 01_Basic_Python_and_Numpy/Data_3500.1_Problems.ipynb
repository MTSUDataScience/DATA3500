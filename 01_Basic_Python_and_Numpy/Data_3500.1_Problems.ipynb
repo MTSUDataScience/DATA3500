{
 "cells": [
  {
   "cell_type": "markdown",
   "metadata": {},
   "source": [
    "# **Solutions**\n",
    "- Run this cell before starting the notebook. You do not need to look at or understand the code. By running this, you will allow yourself to see solutions throughout the notebook as I ask you to solve problems."
   ]
  },
  {
   "cell_type": "code",
   "execution_count": 31,
   "metadata": {},
   "outputs": [],
   "source": [
    "%%capture\n",
    "%load_ext autoreload\n",
    "%autoreload 2\n",
    "\n",
    "!pip install --upgrade git+https://github.com/MTSUDataScience/DATA3500.git\n",
    "\n",
    "from course_solutions.Data3500_ICPS import *"
   ]
  },
  {
   "cell_type": "markdown",
   "metadata": {},
   "source": [
    "### **Try the following problem #1**\n",
    "\n",
    "Suppose you have 100, which you can invest with a 10% return each year. After one year, it's worth 100 x 1.1 = 110, and after two years it's 100 x 1.1 x 1.1 = 121. How much money do you have after seven years?\n",
    "\n",
    "If you want to see the solution to this problem, run the code **solution1_1()** in an empty cell."
   ]
  },
  {
   "cell_type": "code",
   "execution_count": 2,
   "metadata": {},
   "outputs": [
    {
     "name": "stdout",
     "output_type": "stream",
     "text": [
      "The formula for this problem is: 100 * 1.1 ** 7\n",
      "The answer to this problem is: 194.87171000000012\n"
     ]
    }
   ],
   "source": [
    "# Try your answer to problem #1 here.\n",
    "# Remember that you can get an answer by running solution1_1()\n",
    "# You can run the solution code by removing the '#' below and\n",
    "# then running this cell.\n",
    "\n",
    "solution1_1()"
   ]
  },
  {
   "cell_type": "markdown",
   "metadata": {},
   "source": [
    "### **Try the following problem #2**\n",
    "\n",
    "Can you have your solution state that this is the total after 7 years? Can you include a '$' in front of the amount?\n",
    "\n",
    "If you want to see the solution to this problem, run the code **solution1_2()** in an empty cell."
   ]
  },
  {
   "cell_type": "code",
   "execution_count": 3,
   "metadata": {},
   "outputs": [
    {
     "name": "stdout",
     "output_type": "stream",
     "text": [
      "The code you will want to type is: print('After 7 years I have $', (100 * 1.1 ** 7))\n",
      "The answer to this problem is: After 7 years I have $ 194.87171000000012\n"
     ]
    }
   ],
   "source": [
    "# Try your answer to problem #2 here.\n",
    "# Remember that you can get an answer by running solution1_2()\n",
    "# You can run the solution code by removing the '#' below and\n",
    "# then running this cell.\n",
    "\n",
    "solution1_2()"
   ]
  },
  {
   "cell_type": "markdown",
   "metadata": {},
   "source": [
    "### **Try the following problem #3**\n",
    "\n",
    "Can you create a new variable called BMI with the solution? Why would you do this?\n",
    "height = 1.79 \n",
    "weight = 65.2 \n",
    "\n",
    "If you want to see the solution to this problem, run the code **solution1_3()** in an empty cell."
   ]
  },
  {
   "cell_type": "code",
   "execution_count": 32,
   "metadata": {},
   "outputs": [
    {
     "name": "stdout",
     "output_type": "stream",
     "text": [
      "The formula for this problem is: bmi = weight / height ** 2\n",
      "The answer to this problem is: 20.348927936081896\n"
     ]
    }
   ],
   "source": [
    "# Try your answer to problem #3 here.\n",
    "# Remember that you can get an answer by running solution1_3()\n",
    "# You can run the solution code by removing the '#' below and\n",
    "# then running this cell.\n",
    "\n",
    "solution1_3()"
   ]
  },
  {
   "cell_type": "markdown",
   "metadata": {},
   "source": [
    "### **Try the following problem #4**\n",
    "Remember how we calculated the money you ended up with after 7 years of investing $100? You did something like:\n",
    "\n",
    "$$100 * 1.1 ** 7$$\n",
    "\n",
    "Instead of calculating the actual values, you can use variables instead. Create a **savings** variable which represents the $100 ou start with. It is up to you to create a new variable as well to represent the 1.1 growth multiplier and redo the calculation.\n",
    "\n",
    "- Create a new variable called **savings** equal to the starting value of $100.\n",
    "- Create a new variable called **growth_multiplier** equal to 1.1.\n",
    "- Set the solution to a new variable called **result** and print out the value.\n",
    "\n",
    "If you want to see the solution to this problem, run the code **solution1_4()** in an empty cell."
   ]
  },
  {
   "cell_type": "code",
   "execution_count": 5,
   "metadata": {},
   "outputs": [
    {
     "name": "stdout",
     "output_type": "stream",
     "text": [
      "Create savings with the code savings = 100\n",
      "Create growth_multiplier with the code growth_multiplier = 1.1\n",
      "Create result with the code results = savings * growth_multiplier ** 7\n",
      "\n",
      "The value of result is: 194.87171000000012\n"
     ]
    }
   ],
   "source": [
    "# Try your answer to problem #4 here.\n",
    "# Remember that you can get an answer by running solution1_4()\n",
    "# You can run the solution code by removing the '#' below and\n",
    "# then running this cell.\n",
    "\n",
    "solution1_4()"
   ]
  },
  {
   "cell_type": "markdown",
   "metadata": {},
   "source": [
    "### **Try the following problem #5**\n",
    "We will work with other data types now, including strings and booleans.\n",
    "\n",
    "- Create a new string called **desc** with the value 'compond interest'.\n",
    "- Create a new boolean called **profitable** with the value 'True'.\n",
    "\n",
    "If you want to see the solution to this problem, run the code **solution1_5()** in an empty cell."
   ]
  },
  {
   "cell_type": "code",
   "execution_count": 6,
   "metadata": {},
   "outputs": [
    {
     "name": "stdout",
     "output_type": "stream",
     "text": [
      "Create desc with the code desc = 'compound interest'\n",
      "Create profitability with the code profitability = 'True'\n",
      "\n",
      "desc is equal to: compound interest\n",
      "profitability is equal to: True\n"
     ]
    }
   ],
   "source": [
    "# Try your answer to problem #5 here.\n",
    "# Remember that you can get an answer by running solution1_5()\n",
    "# You can run the solution code by removing the '#' below and\n",
    "# then running this cell.\n",
    "\n",
    "solution1_5()"
   ]
  },
  {
   "cell_type": "markdown",
   "metadata": {},
   "source": [
    "### **Try the following problem #6**\n",
    "Remember that different types behave differently in Python. For example, when you sub two strings together you will get a different behavior than when you sum to integers.\n",
    "\n",
    "- Calculate the product of **savings** and **growth_multiplier** and store the result in a new variable called **year1**.\n",
    "  - The value of **savings** and **growth_multiplier** come from your previous solutions.\n",
    "- What do you think the resulting type will be? Find out by printing the type of **year1**.\n",
    "- Calculate the sum of **desc** and **desc** and store the result in a new variable called **doubledesc**.\n",
    "- Print out **doubledesc**. Did you expect this?\n",
    "\n",
    "If you want to see the solution to this problem, run the code **solution1_6()** in an empty cell."
   ]
  },
  {
   "cell_type": "code",
   "execution_count": 7,
   "metadata": {},
   "outputs": [
    {
     "name": "stdout",
     "output_type": "stream",
     "text": [
      "Calculate year1 as year1 = savings * growth_multiplier\n",
      "Check the type of year1 with print(type(year1))\n",
      "Calculate doubledesc as doubledesc = desc + desc\n",
      "Display the value of doubledesc with print(doubledesc)\n",
      "\n",
      "year1 is type: <class 'float'>\n",
      "doubledesc is equal to: compound interestcompound interest\n"
     ]
    }
   ],
   "source": [
    "# Try your answer to problem #6 here.\n",
    "# Remember that you can get an answer by running solution1_6()\n",
    "# You can run the solution code by removing the '#' below and\n",
    "# then running this cell.\n",
    "\n",
    "solution1_6()"
   ]
  },
  {
   "cell_type": "markdown",
   "metadata": {},
   "source": [
    "### **Try the following problem #7**\n",
    "Use the + operator to paste two strings together. Suppose you want to summarize the results of your investment with a string of text. Assuming you have defined **savings** and **result** before.\n",
    "\n",
    "print('I started with' + savings + ' and now have' + result + '.')\n",
    "\n",
    "Although this might seem like it will you, you will receive an error because you cannot sum strings and floats or integers. However, you can fix this by converting **savings** and **result** to string variables with the **str()** command. For example, you can convert **savings** to a string with **str(savings)**.\n",
    "\n",
    "Similar functions include **int()**, **float()**, and **bool()**.\n",
    "\n",
    "- Fix the print statement ('I started with' + savings + ' and now have' + result + '.')\n",
    "- Convert the variable **pi_string** (already created for you below) to a float and store this as a new variable **pi_float**.\n",
    "\n",
    "If you want to see the solution to this problem, run the code **solution1_7()** in an empty cell."
   ]
  },
  {
   "cell_type": "code",
   "execution_count": 33,
   "metadata": {},
   "outputs": [
    {
     "name": "stdout",
     "output_type": "stream",
     "text": [
      "The fix is: 'I started with ' + str(savings) + ' and now have ' + str(result) + '.'\n",
      "The output will now look like: I started with 100 and now have 194.87171000000012.\n",
      "\n",
      "Convert pi_string to a float with: pi_float = float(pi_string)\n",
      "You can check the type of pi_float with: print(type(pi_float))\n",
      "\n",
      "pi_float is of type: <class 'float'>\n"
     ]
    }
   ],
   "source": [
    "# Try your answer to problem #7 here.\n",
    "# Remember that you can get an answer by running solution1_7()\n",
    "# You can run the solution code by removing the '#' below and\n",
    "# then running this cell.\n",
    "\n",
    "pi_string = '3.1415926'\n",
    "\n",
    "solution1_7()"
   ]
  },
  {
   "cell_type": "markdown",
   "metadata": {},
   "source": [
    "### **Try the following problem #8**\n",
    "Lists can contain variables that reference other values as well.\n",
    "- Create a list of lists with the following items and their area in square meters.\n",
    "  - hallway\n",
    "  - kitchen\n",
    "  - living room\n",
    "  - bedroom\n",
    "  - bathroom\n",
    "- Rather than putting the value of each room directly into the list, create a new set of variables with each room size.\n",
    "  - hall = 11.25\n",
    "  - kit = 18.0\n",
    "  - liv = 20.0\n",
    "  - bed = 10.75\n",
    "  - bath = 9.50\n",
    "- Print your new list.\n",
    "\n",
    "Don't get confused: 'hallway' is a string and **hall** is a variable that represents the size of the hallway or 11.25.\n",
    "\n",
    "If you want to see the solution to this problem, run the code **solution1_8()** in an empty cell."
   ]
  },
  {
   "cell_type": "code",
   "execution_count": 9,
   "metadata": {},
   "outputs": [
    {
     "name": "stdout",
     "output_type": "stream",
     "text": [
      "Create the room size variables one at a time as: hall = 11.25, kit = 18.0, liv = 20.0, bed = 10.75, bath = 9.5\n",
      "Create the list of lists as: house = [[\"hallway\", hall],[\"kitchen\", kit],\"living room\", liv],[\"bedroom\", bed],[\"bathroom\", bath]]\n",
      "\n",
      "Printing the new list displays: [['hallway', 11.25], ['kitchen', 18.0], ['living room', 20.0], ['bedroom', 10.75], ['bathroom', 9.5]]\n",
      "The type of house is: <class 'list'>\n"
     ]
    }
   ],
   "source": [
    "# Try your answer to problem #8 here.\n",
    "# Remember that you can get an answer by running solution1_8()\n",
    "# You can run the solution code by removing the '#' below and\n",
    "# then running this cell.\n",
    "\n",
    "solution1_8()"
   ]
  },
  {
   "cell_type": "markdown",
   "metadata": {},
   "source": [
    "### **Try the following problem #9**\n",
    "Let us return to our list of rooms and sizes. I have recreated the list below called **areas**.\n",
    "\n",
    "- Print out the second element from the **areas** list.\n",
    "- Subset and print out the last element of the **areas** list using negative indexing.\n",
    "- Select the number representing the area of the living room and print it out.\n",
    "\n",
    "If you want to see the solution to this problem, run the code **solution1_9()** in an empty cell."
   ]
  },
  {
   "cell_type": "code",
   "execution_count": 10,
   "metadata": {},
   "outputs": [
    {
     "name": "stdout",
     "output_type": "stream",
     "text": [
      "Select and print the second element with: print(areas[1])\n",
      "Print the last element from the list with: print(areas[-1])\n",
      "Print the area of the living room with: print(areas[5])\n",
      "\n",
      "The second element is: 11.25\n",
      "The last element is: 9.5\n",
      "The area of the living room is: 20.0\n"
     ]
    }
   ],
   "source": [
    "# Try your answer to problem #9 here.\n",
    "# Remember that you can get an answer by running solution1_9()\n",
    "# You can run the solution code by removing the '#' below and\n",
    "# then running this cell.\n",
    "\n",
    "areas = [\"hallway\", 11.25, \"kitchen\", 18.0, \"living room\", 20.0, \"bedroom\", 10.75, \"bathroom\", 9.50]\n",
    "\n",
    "solution1_9()"
   ]
  },
  {
   "cell_type": "markdown",
   "metadata": {},
   "source": [
    "### **Try the following problem #10**\n",
    "Let us return to our list of rooms and sizes. I have recreated the list below called **areas**.\n",
    "\n",
    "After extracting elements from a list you can perform additional calculations. For example, extracting the second and fourth element from the list **x** and pasting them together with the **+** operator is possible:\n",
    "\n",
    "**x = ['a', 'b', 'c', 'd']**\n",
    "\n",
    "**print(x[1] + x[2])**\n",
    "\n",
    "- Using list subsetting and variable assignment, create a new variable, **eat_sleep_areas** that contains the sum of the area of the kitchen and the area of the bedroom.\n",
    "- Print the new variable.\n",
    "\n",
    "If you want to see the solution to this problem, run the code **solution1_10()** in an empty cell."
   ]
  },
  {
   "cell_type": "code",
   "execution_count": 11,
   "metadata": {},
   "outputs": [
    {
     "name": "stdout",
     "output_type": "stream",
     "text": [
      "Create and sum your new variable with: eat_sleep_areas = areas[3] + areas[-3]\n",
      "You do not have to use backwards indexing if you do not want to.\n",
      "Print your new variable with: print(eat_sleep_areas)\n",
      "\n",
      "The new variable should look like: 28.75\n"
     ]
    }
   ],
   "source": [
    "# Try your answer to problem #10 here.\n",
    "# Remember that you can get an answer by running solution1_10()\n",
    "# You can run the solution code by removing the '#' below and\n",
    "# then running this cell.\n",
    "\n",
    "areas = [\"hallway\", 11.25, \"kitchen\", 18.0, \"living room\", 20.0, \"bedroom\", 10.75, \"bathroom\", 9.50]\n",
    "\n",
    "solution1_10()"
   ]
  },
  {
   "cell_type": "markdown",
   "metadata": {},
   "source": [
    "### **Try the following problem #11**\n",
    "Let us return to our list of rooms and sizes. I have recreated the list below called **areas**.\n",
    "\n",
    "- Use slicing to createa a list called **downstairs** that contains the first six elements of **areas**.\n",
    "- Do a similar thing to create a new variable **upstairs** that contains the last 4 elements of **areas**.\n",
    "- Print both **downstairs** and **upstairs**.\n",
    "\n",
    "If you want to see the solution to this problem, run the code **solution1_11()** in an empty cell."
   ]
  },
  {
   "cell_type": "code",
   "execution_count": 12,
   "metadata": {},
   "outputs": [
    {
     "name": "stdout",
     "output_type": "stream",
     "text": [
      "One solution to creating downstairs is: downstairs = areas[0:6]\n",
      "Another solution is: downstairs = areas[:6]\n",
      "One solution to creating upstairs is: upstairs = areas[6:10]\n",
      "Another solution is: upstairs = areas[6:]\n",
      "One final option is: upstairs = areas[-4:]\n",
      "\n",
      "Downstairs should look like: ['hallway', 11.25, 'kitchen', 18.0, 'living room', 20.0]\n",
      "Upstairs should look like: ['bedroom', 10.75, 'bathroom', 9.5]\n"
     ]
    }
   ],
   "source": [
    "# Try your answer to problem #11 here.\n",
    "# Remember that you can get an answer by running solution1_11()\n",
    "# You can run the solution code by removing the '#' below and\n",
    "# then running this cell.\n",
    "\n",
    "areas = [\"hallway\", 11.25, \"kitchen\", 18.0, \"living room\", 20.0, \"bedroom\", 10.75, \"bathroom\", 9.50]\n",
    "\n",
    "solution1_11()"
   ]
  },
  {
   "cell_type": "markdown",
   "metadata": {},
   "source": [
    "### **Try the following problem #12**\n",
    "Let us return to our list of rooms and sizes. I have recreated the list below called **areas**.\n",
    "\n",
    "- Update the area of the bathroom to be 10.50 instead of 9.50.\n",
    "- Make the **areas** list more informative by chaning 'bedroom' to 'master bedroom'\n",
    "\n",
    "If you want to see the solution to this problem, run the code **solution1_12()** in an empty cell."
   ]
  },
  {
   "cell_type": "code",
   "execution_count": 34,
   "metadata": {},
   "outputs": [
    {
     "name": "stdout",
     "output_type": "stream",
     "text": [
      "We can correct bathroom with: areas[-1] = 10.50\n",
      "We can change bedroom to master bedroom with: areas[6] = 'master bedroom'\n",
      "\n",
      "Our new list looks like: ['hallway', 11.25, 'kitchen', 18.0, 'living room', 20.0, 'master bedroom', 10.75, 'bathroom', 10.5]\n"
     ]
    }
   ],
   "source": [
    "# Try your answer to problem #12 here.\n",
    "# Remember that you can get an answer by running solution1_12()\n",
    "# You can run the solution code by removing the '#' below and\n",
    "# then running this cell.\n",
    "\n",
    "areas = [\"hallway\", 11.25, \"kitchen\", 18.0, \"living room\", 20.0, \"bedroom\", 10.75, \"bathroom\", 9.50]\n",
    "\n",
    "solution1_12()"
   ]
  },
  {
   "cell_type": "markdown",
   "metadata": {},
   "source": [
    "### **Try the following problem #13**\n",
    "Let us return to our list of rooms and sizes. I have recreated the list below called **areas**.\n",
    "\n",
    "- Use the **+** operator to paste the list **['poolhouse', 24.5]** to the end of **areas** and store the result as **areas_1**.\n",
    "\n",
    "- Further extend **areas_1** by adding data on your garage. Add the string **'garage'** and float **15.45** to a new list **areas_2**.\n",
    "\n",
    "If you want to see the solution to this problem, run the code **solution1_13()** in an empty cell."
   ]
  },
  {
   "cell_type": "code",
   "execution_count": 35,
   "metadata": {},
   "outputs": [
    {
     "name": "stdout",
     "output_type": "stream",
     "text": [
      "You can add the elements with: areas_1 = areas + ['poolhouse', 24.5]\n",
      "You can add the garage elements with: areas_2 = areas_1 + ['garage', 15.45\n",
      "\n",
      "areas_1 now looks like: ['hallway', 11.25, 'kitchen', 18.0, 'living room', 20.0, 'bedroom', 10.75, 'bathroom', 9.5, 'poolhouse', 24.5]\n",
      "areas_2 now looks like: ['hallway', 11.25, 'kitchen', 18.0, 'living room', 20.0, 'bedroom', 10.75, 'bathroom', 9.5, 'poolhouse', 24.5, 'garage', 15.45]\n"
     ]
    }
   ],
   "source": [
    "# Try your answer to problem #13 here.\n",
    "# Remember that you can get an answer by running solution1_13()\n",
    "# You can run the solution code by removing the '#' below and\n",
    "# then running this cell.\n",
    "\n",
    "areas = [\"hallway\", 11.25, \"kitchen\", 18.0, \"living room\", 20.0, \"bedroom\", 10.75, \"bathroom\", 9.50]\n",
    "\n",
    "solution1_13()"
   ]
  },
  {
   "cell_type": "markdown",
   "metadata": {},
   "source": [
    "### **Try the following problem #14**\n",
    "Let us become more familiar with built in Python functions.\n",
    "- Use **print()** in combination with **type()** to print out the type of **var1**.\n",
    "- Use **len()** to get the length of the list **var1**. Wrap it in a **print()** function to print it out.\n",
    "- Use **int()** to convert **var2** to an integer and store it as **out2**.\n",
    "\n",
    "If you want to see the solution to this problem, run the code **solution1_14()** in an empty cell."
   ]
  },
  {
   "cell_type": "code",
   "execution_count": 36,
   "metadata": {},
   "outputs": [
    {
     "name": "stdout",
     "output_type": "stream",
     "text": [
      "You can use print and type together as: print(type(var1))\n",
      "You can use len and print together as: print(len(var1))\n",
      "You can create out2 as: out2 = int(var2)\n",
      "\n",
      "The solution to print and type is: <class 'list'>\n",
      "The solution to len and print is: 4\n",
      "out2 is: 1\n"
     ]
    }
   ],
   "source": [
    "# Try your answer to problem #14 here.\n",
    "# Remember that you can get an answer by running solution1_14()\n",
    "# You can run the solution code by removing the '#' below and\n",
    "# then running this cell.\n",
    "\n",
    "var1 = [1, 2, 3, 4]\n",
    "var2 = True\n",
    "\n",
    "solution1_14()"
   ]
  },
  {
   "cell_type": "markdown",
   "metadata": {},
   "source": [
    "### **Try the following problem #15**\n",
    "Let us become even more familiar with built in Python functions.\n",
    "\n",
    "Look at the documentation of **sorted()** by typing **help(sorted)**. You will see that **sorted()** takes three arguments: **iterable, key** and **reverse**.\n",
    "\n",
    "**key=None** means that if you don't specify the **key** argument, it will be **None**. **reverse=False** means that if you don't specify the **reverse** argument, it will be **False**.\n",
    "\n",
    "- Use **+** to merge the contents of **first** and **second** into a new list **full**.\n",
    "- Call **sorted()** on **full** and specify the **reverse** argument to be **True**. Save the sorted list as **full_sorted**.\n",
    "- Print **full_sorted**.\n",
    "\n",
    "If you want to see the solution to this problem, run the code **solution1_15()** in an empty cell."
   ]
  },
  {
   "cell_type": "code",
   "execution_count": 37,
   "metadata": {},
   "outputs": [
    {
     "name": "stdout",
     "output_type": "stream",
     "text": [
      "You can create full as: full = first + second\n",
      "You can sort full as: full_sorted = sorted(full, reverse = True)\n",
      "You can print full_sorted with: print(full_sorted)\n",
      "\n",
      "full looks like: [11.25, 18.0, 20.0, 10.75, 9.5]\n",
      "full_sorted becomes: [20.0, 18.0, 11.25, 10.75, 9.5]\n"
     ]
    }
   ],
   "source": [
    "# Try your answer to problem #15 here.\n",
    "# Remember that you can get an answer by running solution1_15()\n",
    "# You can run the solution code by removing the '#' below and\n",
    "# then running this cell.\n",
    "\n",
    "first = [11.25, 18.0, 20.0]\n",
    "second = [10.75, 9.50]\n",
    "\n",
    "solution1_15()"
   ]
  },
  {
   "cell_type": "markdown",
   "metadata": {},
   "source": [
    "### **Try the following problem #16**\n",
    "We will now focus on working with methods. As a reminder, we can always type **help(str)** for assistance.\n",
    "- Use the **upper()** method on **place** and store the results in **place_up**.\n",
    "- Print out **place** and **place_up**. Did both change?\n",
    "- Print out the number of o's on the variable **place** by calling **count()** on **place** and passing the letter **'o'** as in input to the method. We are talking about the variable **place**, not the word 'place'.\n",
    "\n",
    "If you want to see the solution to this problem, run the code **solution1_16()** in an empty cell."
   ]
  },
  {
   "cell_type": "code",
   "execution_count": 17,
   "metadata": {},
   "outputs": [
    {
     "name": "stdout",
     "output_type": "stream",
     "text": [
      "We can use upper() by: place_up = place.upper()\n",
      "we can print each variable with: print(place) and print(place_up)\n",
      "We can calculate the number of o's with: print(place.count('o'))\n",
      "\n",
      "The use of upper results in: POOLHOUSE\n",
      "place looks like: poolhouse\n",
      "place_up looks like: POOLHOUSE\n",
      "The number of o's in place is: 3\n"
     ]
    }
   ],
   "source": [
    "# Try your answer to problem #16 here.\n",
    "# Remember that you can get an answer by running solution1_16()\n",
    "# You can run the solution code by removing the '#' below and\n",
    "# then running this cell.\n",
    "\n",
    "place = 'poolhouse'\n",
    "\n",
    "solution1_16()"
   ]
  },
  {
   "cell_type": "markdown",
   "metadata": {},
   "source": [
    "### **Try the following problem #17**\n",
    "We will continue working with methods. We will use **index()** to get the index of the first element of a list that matches its input and **count()** to get the number of times an element appears in a list.\n",
    "- Use the **index()** method to get the index of the element in areas that is equal to **20.0**. Print out this index.\n",
    "- Call **count()** on **areas** to find out how many times **9.50** appears in the list. Print this out as well.\n",
    "\n",
    "If you want to see the solution to this problem, run the code **solution1_17()** in an empty cell."
   ]
  },
  {
   "cell_type": "code",
   "execution_count": 18,
   "metadata": {},
   "outputs": [
    {
     "name": "stdout",
     "output_type": "stream",
     "text": [
      "We can obtain index of value 20 with: print(areas.index(20.0))\n",
      "We can count how often 9.50 appears with: print(areas.count(9.50))\n",
      "\n",
      "The index of 20.0 is: 2\n",
      "The number of times 9.50 appears is: 1\n"
     ]
    }
   ],
   "source": [
    "# Try your answer to problem #17 here.\n",
    "# Remember that you can get an answer by running solution1_17()\n",
    "# You can run the solution code by removing the '#' below and\n",
    "# then running this cell.\n",
    "\n",
    "areas = [11.25, 18.0, 20.0, 10.75, 9.50] \n",
    "\n",
    "solution1_17()"
   ]
  },
  {
   "cell_type": "markdown",
   "metadata": {},
   "source": [
    "### **Try the following problem #18**\n",
    "We will continue working with methods. \n",
    "- Use **append()** twice to add the size of the poolhouse and the garage again. The poolhouse area is 24.5 and the garage area is 15.45.\n",
    "- Print out **areas**.\n",
    "- Use the **reverse()** method to reverse the order of the elements in **areas**.\n",
    "- Print out **areas** again.\n",
    "\n",
    "If you want to see the solution to this problem, run the code **solution1_18()** in an empty cell."
   ]
  },
  {
   "cell_type": "code",
   "execution_count": 19,
   "metadata": {},
   "outputs": [
    {
     "name": "stdout",
     "output_type": "stream",
     "text": [
      "We can append the first value with: areas.append(24.5)\n",
      "We append the second value with: areas.append(15.45\n",
      "We print this list with: print(areas)\n",
      "We reverse the order of the list with: areas.reverse()\n",
      "We print the list again wtih: print(areas)\n",
      "\n",
      "After appending both values, areas becomes: [11.25, 18.0, 20.0, 10.75, 9.5, 24.5, 15.45]\n",
      "After reversing the oder we have: [15.45, 24.5, 9.5, 10.75, 20.0, 18.0, 11.25]\n"
     ]
    }
   ],
   "source": [
    "# Try your answer to problem #18 here.\n",
    "# Remember that you can get an answer by running solution1_18()\n",
    "# You can run the solution code by removing the '#' below and\n",
    "# then running this cell.\n",
    "\n",
    "areas = [11.25, 18.0, 20.0, 10.75, 9.50]\n",
    "\n",
    "solution1_18()"
   ]
  },
  {
   "cell_type": "markdown",
   "metadata": {},
   "source": [
    "### **Try the following problem #19**\n",
    "We will now work with importing packages. If we want to know the circumference, **C**, and area, **A**, of a circle when the radius of the circle is **r**, you can calculate **C** and **A** as:\n",
    "$$C = 2(pi)r$$\n",
    "$$A = (pi)r^2$$\n",
    "But how we do get the value of **pi**? We can use the **math** package.\n",
    "- Import the **math** package. Now you can access the constant **pi** with **math.pi**.\n",
    "- Calculate the circumference of the circle and store it in **C**.\n",
    "- Calculate the area of the circle and store it in **A**.\n",
    "- Print both values.\n",
    "\n",
    "If you want to see the solution to this problem, run the code **solution1_19()** in an empty cell."
   ]
  },
  {
   "cell_type": "code",
   "execution_count": 20,
   "metadata": {},
   "outputs": [
    {
     "name": "stdout",
     "output_type": "stream",
     "text": [
      "We import the math package with: import math\n",
      "We calculate C with: C = 2 * r * math.pi\n",
      "We calculate A with: A = math.pi * r ** 2\n",
      "\n",
      "The value of C is: 2.701769682087222\n",
      "The value of A is: 0.5808804816487527\n"
     ]
    }
   ],
   "source": [
    "# Try your answer to problem #19 here.\n",
    "# Remember that you can get an answer by running solution1_19()\n",
    "# You can run the solution code by removing the '#' below and\n",
    "# then running this cell.\n",
    "\n",
    "r = 0.43\n",
    "\n",
    "solution1_19()"
   ]
  },
  {
   "cell_type": "markdown",
   "metadata": {},
   "source": [
    "### **Try the following problem #20**\n",
    "A list of **baseball** is provided as the height of some baseball players in centimeters.\n",
    "- Import the **numpy** package as **np** so that you can refere to **numpy** with **np**.\n",
    "- Use **np.array()** to create a **numpy** array from **baseball**. Name this array **np_baseball**.\n",
    "- Print out the type of **np_baseball**.\n",
    "\n",
    "If you want to see the solution to this problem, run the code **solution1_20()** in an empty cell."
   ]
  },
  {
   "cell_type": "code",
   "execution_count": 21,
   "metadata": {},
   "outputs": [
    {
     "name": "stdout",
     "output_type": "stream",
     "text": [
      "Import numpy with: import numpy as np\n",
      "Create a numpy array as: np_baseball = np.array(baseball)\n",
      "Print the type with: print(type(np_baseball))\n",
      "\n",
      "np_baseball looks like: [180 215 210 210 188 176 209 200]\n",
      "The type of np_baseball is: <class 'numpy.ndarray'>\n"
     ]
    }
   ],
   "source": [
    "# Try your answer to problem #20 here.\n",
    "# Remember that you can get an answer by running solution1_20()\n",
    "# You can run the solution code by removing the '#' below and\n",
    "# then running this cell.\n",
    "\n",
    "baseball = [180, 215, 210, 210, 188, 176, 209, 200]    \n",
    "\n",
    "solution1_20()"
   ]
  },
  {
   "cell_type": "markdown",
   "metadata": {},
   "source": [
    "### **Try the following problem #21**\n",
    "Major League Baseball provides you with a larger list of player heights in inches. This data comes in the form of a regular Python list, **height_in**.\n",
    "- Create a numpy array from **height_in** with the new name **np_height_in**.\n",
    "- print **np_height_in**.\n",
    "- Multiply **np_height_in** with 0.0254 to convert all height measurements from inches to meters. Store the new values in a new array called **np_height_m**.\n",
    "- Print **np_height_m**.\n",
    "\n",
    "If you want to see the solution to this problem, run the code **solution1_21()** in an empty cell."
   ]
  },
  {
   "cell_type": "code",
   "execution_count": 22,
   "metadata": {},
   "outputs": [
    {
     "name": "stdout",
     "output_type": "stream",
     "text": [
      "Create a Numpy array with: np_height_in = np.array(height_in)\n",
      "We print this new array with: print(np_height_in\n",
      "Convert this array to meters with: np_height_m = np_height_in * 0.0254\n",
      "We print the final array with: print(np_height_m)\n",
      "\n",
      "np_height_in as a Numpy array looks like:\n",
      "[74 74 72 72 73 69 69 71 76 71 73 73 74 74 69 70 73 75 78 79 76 74 76 72\n",
      " 71 75 77 74 73 74 78 73 75 73 75 75 74 69 71 74 73 73 76 74 74 70 72 77\n",
      " 74 70 73 75 76 76 78 74 74 76 77 81 78 75 77 75 76 74 72 72 75 73 73 73\n",
      " 70 70 70 76 68 71 72 75 75 75 75 68 74 78 71 73 76 74 74 79 75 73 76 74\n",
      " 74 73 72 74 73 74 72 73 69 72 73 75 75 73 72 72 76 74 72 77 74 77 75 76\n",
      " 80 74 74 75 78 73 73 74 75 76 71 73 74 76 76 74 73 74 70 72]\n",
      "np_height_m as a Numpy array looks like:\n",
      "[1.8796 1.8796 1.8288 1.8288 1.8542 1.7526 1.7526 1.8034 1.9304 1.8034\n",
      " 1.8542 1.8542 1.8796 1.8796 1.7526 1.778  1.8542 1.905  1.9812 2.0066\n",
      " 1.9304 1.8796 1.9304 1.8288 1.8034 1.905  1.9558 1.8796 1.8542 1.8796\n",
      " 1.9812 1.8542 1.905  1.8542 1.905  1.905  1.8796 1.7526 1.8034 1.8796\n",
      " 1.8542 1.8542 1.9304 1.8796 1.8796 1.778  1.8288 1.9558 1.8796 1.778\n",
      " 1.8542 1.905  1.9304 1.9304 1.9812 1.8796 1.8796 1.9304 1.9558 2.0574\n",
      " 1.9812 1.905  1.9558 1.905  1.9304 1.8796 1.8288 1.8288 1.905  1.8542\n",
      " 1.8542 1.8542 1.778  1.778  1.778  1.9304 1.7272 1.8034 1.8288 1.905\n",
      " 1.905  1.905  1.905  1.7272 1.8796 1.9812 1.8034 1.8542 1.9304 1.8796\n",
      " 1.8796 2.0066 1.905  1.8542 1.9304 1.8796 1.8796 1.8542 1.8288 1.8796\n",
      " 1.8542 1.8796 1.8288 1.8542 1.7526 1.8288 1.8542 1.905  1.905  1.8542\n",
      " 1.8288 1.8288 1.9304 1.8796 1.8288 1.9558 1.8796 1.9558 1.905  1.9304\n",
      " 2.032  1.8796 1.8796 1.905  1.9812 1.8542 1.8542 1.8796 1.905  1.9304\n",
      " 1.8034 1.8542 1.8796 1.9304 1.9304 1.8796 1.8542 1.8796 1.778  1.8288]\n"
     ]
    }
   ],
   "source": [
    "# Try your answer to problem #21 here.\n",
    "# Remember that you can get an answer by running solution1_21()\n",
    "# You can run the solution code by removing the '#' below and\n",
    "# then running this cell.\n",
    "\n",
    "height_in = [74, 74, 72, 72, 73, 69, 69, 71, 76, 71, 73, 73, \n",
    "             74, 74, 69, 70, 73, 75, 78, 79, 76, 74, 76, 72, \n",
    "             71, 75, 77, 74, 73, 74, 78, 73, 75, 73, 75, 75, \n",
    "             74, 69, 71, 74, 73, 73, 76, 74, 74, 70, 72, 77, \n",
    "             74, 70, 73, 75, 76, 76, 78, 74, 74, 76, 77, 81, \n",
    "             78, 75, 77, 75, 76, 74, 72, 72, 75, 73, 73, 73, \n",
    "             70, 70, 70, 76, 68, 71, 72, 75, 75, 75, 75, 68, \n",
    "             74, 78, 71, 73, 76, 74, 74, 79, 75, 73, 76, 74, \n",
    "             74, 73, 72, 74, 73, 74, 72, 73, 69, 72, 73, 75, \n",
    "             75, 73, 72, 72, 76, 74, 72, 77, 74, 77, 75, 76, \n",
    "             80, 74, 74, 75, 78, 73, 73, 74, 75, 76, 71, 73, \n",
    "             74, 76, 76, 74, 73, 74, 70, 72]   \n",
    "\n",
    "solution1_21()   "
   ]
  },
  {
   "cell_type": "markdown",
   "metadata": {},
   "source": [
    "### **Try the following problem #22**\n",
    "Major League Baseball also provides you with their weight data. Again, both are available as regular Python lists: **height_in** and **weight_lb**. **height_in** is in inches and **weight_lb** is in pounds.\n",
    "- Create a numpy array from the **weight_lb** list with the correct units. Multiply by 0.453592 to go from pounds to kilograms. Store the resulting **numpy** array as **np_weight_kg**.\n",
    "- Use **np_height_m** and **np_weight_kg** to calculate player BMI.\n",
    "$$BMI = weight(kg) / height(m)^2$$\n",
    "and save the **numpy** array as **bmi**.\n",
    "- Print **bmi**.\n",
    "\n",
    "If you want to see the solution to this problem, run the code **solution1_22()** in an empty cell."
   ]
  },
  {
   "cell_type": "code",
   "execution_count": 23,
   "metadata": {},
   "outputs": [
    {
     "name": "stdout",
     "output_type": "stream",
     "text": [
      "We create our new numpy array in meters as: np_height_m = np.array(height_in) * 0.0254\n",
      "We create our new numpy array in kilograms as: np_weight_kg = np.array(weight_lb) * 0.453592\n",
      "We create bmi as: bmi = np_weight_kg / np_height_m ** 2\n",
      "We print our final bmi numpy array as: print(bmi)\n",
      "\n",
      "np_height_m looks like:\n",
      "[1.8796 1.8796 1.8288 1.8288 1.8542 1.7526 1.7526 1.8034 1.9304 1.8034\n",
      " 1.8542 1.8542 1.8796 1.8796 1.7526 1.778  1.8542 1.905  1.9812 2.0066\n",
      " 1.9304 1.8796 1.9304 1.8288 1.8034 1.905  1.9558 1.8796 1.8542 1.8796\n",
      " 1.9812 1.8542 1.905  1.8542 1.905  1.905  1.8796 1.7526 1.8034 1.8796\n",
      " 1.8542 1.8542 1.9304 1.8796 1.8796 1.778  1.8288 1.9558 1.8796 1.778\n",
      " 1.8542 1.905  1.9304 1.9304 1.9812 1.8796 1.8796 1.9304 1.9558 2.0574\n",
      " 1.9812 1.905  1.9558 1.905  1.9304 1.8796 1.8288 1.8288 1.905  1.8542\n",
      " 1.8542 1.8542 1.778  1.778  1.778  1.9304 1.7272 1.8034 1.8288 1.905\n",
      " 1.905  1.905  1.905  1.7272 1.8796 1.9812 1.8034 1.8542 1.9304 1.8796\n",
      " 1.8796 2.0066 1.905  1.8542 1.9304 1.8796 1.8796 1.8542 1.8288 1.8796\n",
      " 1.8542 1.8796 1.8288 1.8542 1.7526 1.8288 1.8542 1.905  1.905  1.8542\n",
      " 1.8288 1.8288 1.9304 1.8796 1.8288 1.9558 1.8796 1.9558 1.905  1.9304\n",
      " 2.032  1.8796 1.8796 1.905  1.9812 1.8542 1.8542 1.8796 1.905  1.9304\n",
      " 1.8034 1.8542 1.8796 1.9304 1.9304 1.8796 1.8542 1.8796 1.778  1.8288]\n",
      "np_weight_kg looks like:\n",
      "[ 81.64656   97.52228   95.25432   95.25432   85.275296  79.832192\n",
      "  94.800728  90.7184   104.779752  81.64656   85.275296  81.64656\n",
      "  83.91452   72.57472   81.64656   83.91452   85.728888  83.91452\n",
      "  99.336648 104.32616   92.98636  104.32616   88.45044   81.64656\n",
      "  87.089664 102.0582    92.079176  88.45044   82.553744  85.275296\n",
      "  90.7184    81.64656   90.7184    90.7184   111.13004  108.86208\n",
      "  97.52228   83.91452   79.3786    90.264808  90.7184    97.52228\n",
      "  90.7184    92.98636   93.439952  84.368112  85.275296  99.79024\n",
      "  95.25432   88.45044   90.7184    90.7184    96.161504 101.604608\n",
      "  95.25432   92.98636   99.79024   88.45044   90.7184   117.93392\n",
      " 103.418976 122.46984   90.7184    95.25432   86.18248   99.79024\n",
      "  81.64656   92.98636   95.25432   99.79024   95.707912  90.7184\n",
      "  81.64656   86.18248   77.11064  104.32616   70.30676   83.91452\n",
      "  83.91452   90.7184   102.0582   102.0582    99.79024   72.57472\n",
      "  92.98636  106.59412  113.398     95.25432   86.18248   72.57472\n",
      "  90.7184    92.98636  100.697424  88.45044   92.98636   99.79024\n",
      "  99.79024   77.11064   83.91452   88.45044   99.79024  104.32616\n",
      "  81.64656   99.79024   81.64656   81.64656   77.11064   95.25432\n",
      "  97.52228   90.7184    96.615096  81.64656   87.089664 106.59412\n",
      "  83.91452  106.59412   95.25432  100.697424  95.25432  104.32616\n",
      "  99.79024   81.64656   86.18248   90.7184    95.25432   87.996848\n",
      "  81.64656   86.18248  108.86208   90.7184    89.811216  90.7184\n",
      "  88.45044   95.25432   99.79024   86.18248   95.25432  102.0582\n",
      "  81.64656   83.91452 ]\n",
      "bmi looks like:\n",
      "[23.11037639 27.60406069 28.48080465 28.48080465 24.80333518 25.99036864\n",
      " 30.86356276 27.89402921 28.11789135 25.10462629 24.80333518 23.7478741\n",
      " 23.75233129 20.54255679 26.58105883 26.54444207 24.93526781 23.12315842\n",
      " 25.30771077 25.91025019 24.95310704 29.52992539 23.73588231 24.41211827\n",
      " 26.77826804 28.12276025 24.07202028 25.03624109 24.01173937 24.13750423\n",
      " 23.11206463 23.7478741  24.99800911 26.38652678 30.62256116 29.99761093\n",
      " 27.60406069 27.31942158 24.40727556 25.54980501 26.38652678 28.36551629\n",
      " 24.34449467 26.32015089 26.44854187 26.68792554 25.4971013  26.08790375\n",
      " 26.96210579 27.97927677 26.38652678 24.99800911 25.80516435 27.26583403\n",
      " 24.26766786 26.32015089 28.24601559 23.73588231 23.71627614 27.86129273\n",
      " 26.34775368 33.74731229 23.71627614 26.24790956 23.12726994 28.24601559\n",
      " 24.41211827 27.80269025 26.24790956 29.02517946 27.83778576 26.38652678\n",
      " 25.82702472 27.26185942 24.39219001 27.99616887 23.56740829 25.80197702\n",
      " 25.09023267 24.99800911 28.12276025 28.12276025 27.49781002 24.32764727\n",
      " 26.32015089 27.15667594 34.86753651 27.70585312 23.12726994 20.54255679\n",
      " 25.67819599 23.09391864 27.74779011 25.72686361 24.95310704 28.24601559\n",
      " 28.24601559 22.42854777 25.09023267 25.03624109 29.02517946 29.52992539\n",
      " 24.41211827 29.02517946 26.58105883 24.41211827 22.42854777 26.24790956\n",
      " 26.87285979 26.38652678 28.88767328 24.41211827 23.37071489 30.17188029\n",
      " 25.09023267 27.86662446 26.96210579 26.32506651 26.24790956 27.99616887\n",
      " 24.16799709 23.11037639 24.39428619 24.99800911 24.26766786 25.59493098\n",
      " 23.7478741  24.39428619 29.99761093 24.34449467 27.61508891 26.38652678\n",
      " 25.03624109 25.56171941 26.77894414 24.39428619 27.70585312 28.88797049\n",
      " 25.82702472 25.09023267]\n"
     ]
    }
   ],
   "source": [
    "# Try your answer to problem #22 here.\n",
    "# Remember that you can get an answer by running solution1_22()\n",
    "# You can run the solution code by removing the '#' below and\n",
    "# then running this cell.\n",
    "\n",
    "height_in = [74, 74, 72, 72, 73, 69, 69, 71, 76, 71, 73, 73, \n",
    "             74, 74, 69, 70, 73, 75, 78, 79, 76, 74, 76, 72, \n",
    "             71, 75, 77, 74, 73, 74, 78, 73, 75, 73, 75, 75, \n",
    "             74, 69, 71, 74, 73, 73, 76, 74, 74, 70, 72, 77, \n",
    "             74, 70, 73, 75, 76, 76, 78, 74, 74, 76, 77, 81, \n",
    "             78, 75, 77, 75, 76, 74, 72, 72, 75, 73, 73, 73, \n",
    "             70, 70, 70, 76, 68, 71, 72, 75, 75, 75, 75, 68, \n",
    "             74, 78, 71, 73, 76, 74, 74, 79, 75, 73, 76, 74, \n",
    "             74, 73, 72, 74, 73, 74, 72, 73, 69, 72, 73, 75, \n",
    "             75, 73, 72, 72, 76, 74, 72, 77, 74, 77, 75, 76, \n",
    "             80, 74, 74, 75, 78, 73, 73, 74, 75, 76, 71, 73, \n",
    "             74, 76, 76, 74, 73, 74, 70, 72]   \n",
    "\n",
    "weight_lb = [180, 215, 210, 210, 188, 176, 209, 200, 231, 180,\n",
    "             188, 180, 185, 160, 180, 185, 189, 185, 219, 230, \n",
    "             205, 230, 195, 180, 192, 225, 203, 195, 182, 188, \n",
    "             200, 180, 200, 200, 245, 240, 215, 185, 175, 199, \n",
    "             200, 215, 200, 205, 206, 186, 188, 220, 210, 195, \n",
    "             200, 200, 212, 224, 210, 205, 220, 195, 200, 260, \n",
    "             228, 270, 200, 210, 190, 220, 180, 205, 210, 220, \n",
    "             211, 200, 180, 190, 170, 230, 155, 185, 185, 200, \n",
    "             225, 225, 220, 160, 205, 235, 250, 210, 190, 160, \n",
    "             200, 205, 222, 195, 205, 220, 220, 170, 185, 195, \n",
    "             220, 230, 180, 220, 180, 180, 170, 210, 215, 200, \n",
    "             213, 180, 192, 235, 185, 235, 210, 222, 210, 230, \n",
    "             220, 180, 190, 200, 210, 194, 180, 190, 240, 200, \n",
    "             198, 200, 195, 210, 220, 190, 210, 225, 180, 185] \n",
    "\n",
    "solution1_22()   "
   ]
  },
  {
   "cell_type": "markdown",
   "metadata": {},
   "source": [
    "### **Try the following problem #23**\n",
    "Major League Baseball wants you to identify all lightweight baseball players (ie. those with a bmi below 21).\n",
    "- Create a boolean **numpy** array: the element of the array should be **True** if the corresponding baseball player's BMI is below 21. You can use the **<** operator for this. Name the new array **light**.\n",
    "- Print the array **light**.\n",
    "- Print out a **numpy** array with the BMIs of all baseball players whose BMI is below 21. Use **light** inside square brackets to do a selection on the **bmi** array.\n",
    "\n",
    "If you want to see the solution to this problem, run the code **solution1_23()** in an empty cell."
   ]
  },
  {
   "cell_type": "code",
   "execution_count": 24,
   "metadata": {},
   "outputs": [
    {
     "name": "stdout",
     "output_type": "stream",
     "text": [
      "We convert our height list to a Numpy array in meters with: np_height_m = np.array(height_in) * 0.0254\n",
      "We convert our weight list to a Numpy array in kgs with: np_weight_kg = np.array(weight_lb) * 0.453592\n",
      "Create our bmi array with: bmi = np_weight_kg / np_height_m ** 2\n",
      "Create light with: light = bmi < 21\n",
      "Print light with: print(light)\n",
      "Subset bmi with light and print with: print(bmi[light])\n",
      "\n",
      "light looks like:\n",
      "[False False False False False False False False False False False False\n",
      " False  True False False False False False False False False False False\n",
      " False False False False False False False False False False False False\n",
      " False False False False False False False False False False False False\n",
      " False False False False False False False False False False False False\n",
      " False False False False False False False False False False False False\n",
      " False False False False False False False False False False False False\n",
      " False False False False False  True False False False False False False\n",
      " False False False False False False False False False False False False\n",
      " False False False False False False False False False False False False\n",
      " False False False False False False False False False False False False\n",
      " False False False False False False False False]\n",
      "bmi subset with light looks like:\n",
      "[20.54255679 20.54255679]\n"
     ]
    }
   ],
   "source": [
    "# Try your answer to problem #23 here.\n",
    "# Remember that you can get an answer by running solution1_23()\n",
    "# You can run the solution code by removing the '#' below and\n",
    "# then running this cell.\n",
    "\n",
    "height_in = [74, 74, 72, 72, 73, 69, 69, 71, 76, 71, 73, 73, \n",
    "             74, 74, 69, 70, 73, 75, 78, 79, 76, 74, 76, 72, \n",
    "             71, 75, 77, 74, 73, 74, 78, 73, 75, 73, 75, 75, \n",
    "             74, 69, 71, 74, 73, 73, 76, 74, 74, 70, 72, 77, \n",
    "             74, 70, 73, 75, 76, 76, 78, 74, 74, 76, 77, 81, \n",
    "             78, 75, 77, 75, 76, 74, 72, 72, 75, 73, 73, 73, \n",
    "             70, 70, 70, 76, 68, 71, 72, 75, 75, 75, 75, 68, \n",
    "             74, 78, 71, 73, 76, 74, 74, 79, 75, 73, 76, 74, \n",
    "             74, 73, 72, 74, 73, 74, 72, 73, 69, 72, 73, 75, \n",
    "             75, 73, 72, 72, 76, 74, 72, 77, 74, 77, 75, 76, \n",
    "             80, 74, 74, 75, 78, 73, 73, 74, 75, 76, 71, 73, \n",
    "             74, 76, 76, 74, 73, 74, 70, 72]   \n",
    "\n",
    "weight_lb = [180, 215, 210, 210, 188, 176, 209, 200, 231, 180,\n",
    "             188, 180, 185, 160, 180, 185, 189, 185, 219, 230, \n",
    "             205, 230, 195, 180, 192, 225, 203, 195, 182, 188, \n",
    "             200, 180, 200, 200, 245, 240, 215, 185, 175, 199, \n",
    "             200, 215, 200, 205, 206, 186, 188, 220, 210, 195, \n",
    "             200, 200, 212, 224, 210, 205, 220, 195, 200, 260, \n",
    "             228, 270, 200, 210, 190, 220, 180, 205, 210, 220, \n",
    "             211, 200, 180, 190, 170, 230, 155, 185, 185, 200, \n",
    "             225, 225, 220, 160, 205, 235, 250, 210, 190, 160, \n",
    "             200, 205, 222, 195, 205, 220, 220, 170, 185, 195, \n",
    "             220, 230, 180, 220, 180, 180, 170, 210, 215, 200, \n",
    "             213, 180, 192, 235, 185, 235, 210, 222, 210, 230, \n",
    "             220, 180, 190, 200, 210, 194, 180, 190, 240, 200, \n",
    "             198, 200, 195, 210, 220, 190, 210, 225, 180, 185] \n",
    "\n",
    "solution1_23()   "
   ]
  },
  {
   "cell_type": "markdown",
   "metadata": {},
   "source": [
    "### **Try the following problem #24**\n",
    "- Subset **np_weight_lb** by printing out the element at index 50. Remember we want the observation at index 50, not at the 50th spot. These are different because we use zero indexing (ie. the first observation is located at index 0).\n",
    "- Print out a sub-array of **np_height_in** that contains elements at index 100 up to *and including* index 110. Remember that the second number in your sub-array range is not included in the final sub-array.\n",
    "\n",
    "If you want to see the solution to this problem, run the code **solution1_24()** in an empty cell."
   ]
  },
  {
   "cell_type": "code",
   "execution_count": 25,
   "metadata": {},
   "outputs": [
    {
     "name": "stdout",
     "output_type": "stream",
     "text": [
      "We convert our height list to a Numpy array with: np_height_m = np.array(height_in)\n",
      "We convert our weight list to a Numpy array iwith: np_weight_kg = np.array(weight_lb)\n",
      "We print out weight at index 50 with: print(np_weight_lb[50]\n",
      "We print a sub-array that contains elements at index 100 up to and including index 100 with: print(np_height_in[100:111]\n",
      "\n",
      "index 50 looks like:\n",
      "200\n",
      "sub-array 100 through 110 looks like:\n",
      "[73 74 72 73 69 72 73 75 75 73 72]\n"
     ]
    }
   ],
   "source": [
    "# Try your answer to problem #24 here.\n",
    "# Remember that you can get an answer by running solution1_24()\n",
    "# You can run the solution code by removing the '#' below and\n",
    "# then running this cell.\n",
    "\n",
    "height_in = [74, 74, 72, 72, 73, 69, 69, 71, 76, 71, 73, 73, \n",
    "             74, 74, 69, 70, 73, 75, 78, 79, 76, 74, 76, 72, \n",
    "             71, 75, 77, 74, 73, 74, 78, 73, 75, 73, 75, 75, \n",
    "             74, 69, 71, 74, 73, 73, 76, 74, 74, 70, 72, 77, \n",
    "             74, 70, 73, 75, 76, 76, 78, 74, 74, 76, 77, 81, \n",
    "             78, 75, 77, 75, 76, 74, 72, 72, 75, 73, 73, 73, \n",
    "             70, 70, 70, 76, 68, 71, 72, 75, 75, 75, 75, 68, \n",
    "             74, 78, 71, 73, 76, 74, 74, 79, 75, 73, 76, 74, \n",
    "             74, 73, 72, 74, 73, 74, 72, 73, 69, 72, 73, 75, \n",
    "             75, 73, 72, 72, 76, 74, 72, 77, 74, 77, 75, 76, \n",
    "             80, 74, 74, 75, 78, 73, 73, 74, 75, 76, 71, 73, \n",
    "             74, 76, 76, 74, 73, 74, 70, 72]   \n",
    "\n",
    "weight_lb = [180, 215, 210, 210, 188, 176, 209, 200, 231, 180,\n",
    "             188, 180, 185, 160, 180, 185, 189, 185, 219, 230, \n",
    "             205, 230, 195, 180, 192, 225, 203, 195, 182, 188, \n",
    "             200, 180, 200, 200, 245, 240, 215, 185, 175, 199, \n",
    "             200, 215, 200, 205, 206, 186, 188, 220, 210, 195, \n",
    "             200, 200, 212, 224, 210, 205, 220, 195, 200, 260, \n",
    "             228, 270, 200, 210, 190, 220, 180, 205, 210, 220, \n",
    "             211, 200, 180, 190, 170, 230, 155, 185, 185, 200, \n",
    "             225, 225, 220, 160, 205, 235, 250, 210, 190, 160, \n",
    "             200, 205, 222, 195, 205, 220, 220, 170, 185, 195, \n",
    "             220, 230, 180, 220, 180, 180, 170, 210, 215, 200, \n",
    "             213, 180, 192, 235, 185, 235, 210, 222, 210, 230, \n",
    "             220, 180, 190, 200, 210, 194, 180, 190, 240, 200, \n",
    "             198, 200, 195, 210, 220, 190, 210, 225, 180, 185] \n",
    "\n",
    "solution1_24()  "
   ]
  },
  {
   "cell_type": "markdown",
   "metadata": {},
   "source": [
    "### **Try the following problem #25**\n",
    "Lets start with a list of lists which contains 4 elements. Each element is a list containing the height and weight of 4 baseball players. **baseball** is already created for you.\n",
    "- Use **np.array()** to create a 2D **numpy** array from **baseball**. Name it **np_baseball**.\n",
    "- Print out the type of **np_baseball**.\n",
    "- Print out the **shape** attribute of **np_baseball**. Use **np_baseball.shape**.\n",
    "\n",
    "If you want to see the solution to this problem, run the code **solution1_25()** in an empty cell."
   ]
  },
  {
   "cell_type": "code",
   "execution_count": 26,
   "metadata": {},
   "outputs": [
    {
     "name": "stdout",
     "output_type": "stream",
     "text": [
      "We create np_baseball with: np_baseball = np.array(baseball)\n",
      "We can print the type of np_baseball with: print(type(np_baseball))\n",
      "We can see the shape of np_baseball with: print(np_baseball.shape)\n",
      "\n",
      "np_baseball as a Numpy array looks like:\n",
      "[[180.   78.4]\n",
      " [215.  102.7]\n",
      " [210.   98.5]\n",
      " [188.   75.2]]\n",
      "The type of np_baseball is: <class 'numpy.ndarray'>\n",
      "The shape of np_baseball is: (4, 2)\n"
     ]
    }
   ],
   "source": [
    "# Try your answer to problem #25 here.\n",
    "# Remember that you can get an answer by running solution1_25()\n",
    "# You can run the solution code by removing the '#' below and\n",
    "# then running this cell.\n",
    "\n",
    "baseball = [[180, 78.4],\n",
    "            [215, 102.7],\n",
    "            [210, 98.5],\n",
    "            [188, 75.2]]               \n",
    "\n",
    "solution1_25()  "
   ]
  },
  {
   "cell_type": "markdown",
   "metadata": {},
   "source": [
    "### **Try the following problem #26**\n",
    "The MLB has provided us with a Python list of lists that contains the height and weight 15 baseball players. This list of lists is provided as **baseball**.\n",
    "- Use **np_array()** to create a 2D **numpy** array from **baseball**. Name it **np_baseball**. Remember how to extract elements from a **numpy** array. For example, x = [['a', 'b'], ['c', 'd']]. To extract element 'c' and 'd', we can use np_x = [:,0].\n",
    "- Print out the **shape** attribute of **np_baseball**.\n",
    "- Print out the the 8th row of **np_baseball**.\n",
    "- Make a new variable, **np_weight_lb**, containing the entire second column of **np_baseball**.\n",
    "- Select the height (first column) of the 12th baseball player in **np_baseball** and print it out.\n",
    "\n",
    "If you want to see the solution to this problem, run the code **solution1_26()** in an empty cell."
   ]
  },
  {
   "cell_type": "code",
   "execution_count": 27,
   "metadata": {},
   "outputs": [
    {
     "name": "stdout",
     "output_type": "stream",
     "text": [
      "We create np_baseball with: np_baseball = np.array(baseball)\n",
      "We can see the shape of np_baseball with: print(np_baseball.shape)\n",
      "We can print the 8th row with: print(np_baseball[7,:])\n",
      "We can select the entire 2nd column with: np_weight_lb = np_baseball[:,1]\n",
      "We can print the heiht of the 12th player with: print(np_baseball[11,0])\n",
      "\n",
      "np_baseball as a Numpy array looks like:\n",
      "[[ 74 180]\n",
      " [ 74 215]\n",
      " [ 72 210]\n",
      " [ 72 210]\n",
      " [ 73 188]\n",
      " [ 69 176]\n",
      " [ 69 209]\n",
      " [ 71 200]\n",
      " [ 76 231]\n",
      " [ 71 180]\n",
      " [ 73 188]\n",
      " [ 73 180]\n",
      " [ 74 185]\n",
      " [ 74 160]\n",
      " [ 69 180]]\n",
      "The shape of np_baseball is: (15, 2)\n",
      "The 8th row looks like: [ 71 200]\n",
      "The second column looks like:\n",
      "[180 215 210 210 188 176 209 200 231 180 188 180 185 160 180]\n",
      "The height of the 12th player is: 73\n"
     ]
    }
   ],
   "source": [
    "# Try your answer to problem #26 here.\n",
    "# Remember that you can get an answer by running solution1_26()\n",
    "# You can run the solution code by removing the '#' below and\n",
    "# then running this cell.\n",
    "\n",
    "baseball = [[74, 180],\n",
    "            [74, 215],\n",
    "            [72, 210],\n",
    "            [72, 210],\n",
    "            [73, 188],\n",
    "            [69, 176],\n",
    "            [69, 209],\n",
    "            [71, 200],\n",
    "            [76, 231],\n",
    "            [71, 180],\n",
    "            [73, 188],\n",
    "            [73, 180],\n",
    "            [74, 185],\n",
    "            [74, 160],\n",
    "            [69, 180]]             \n",
    "\n",
    "solution1_26()  "
   ]
  },
  {
   "cell_type": "markdown",
   "metadata": {},
   "source": [
    "### **Try the following problem #27**\n",
    "We can apply arithmetic to 2D arrays just as easily as we did for a 1D array. **baseball** now contains a 3rd column for age.\n",
    "- We now have a a 2D **numpy** array called **updated** that contains the change in height, weight, and age of all baseball players in our **baseball** list of lists. Add **np_baseball** and **updated** together than print the result.\n",
    "- You want to convert the units of height and weight to metric. As a first step, create a **numpy** array with three values: **0.0254**, **0.453592**, and **1**. Name this **conversion**.\n",
    "- Multiply **np_baseball** with **conversion** and print the results.\n",
    "\n",
    "If you want to see the solution to this problem, run the code **solution1_27()** in an empty cell."
   ]
  },
  {
   "cell_type": "code",
   "execution_count": 28,
   "metadata": {},
   "outputs": [
    {
     "name": "stdout",
     "output_type": "stream",
     "text": [
      "We create np_baseball with: np_baseball = np.array(baseball)\n",
      "We create np_updated with: np_updated = np.array(updated)\n",
      "We can see the addition with: print(np_baseball + updated)\n",
      "We can create conversion with: conversion = np.array([0.0254, 0.453592, 1])\n",
      "We can print the converted values with: print(np_baseball * conversion)\n",
      "\n",
      "The new array after addition looks like:\n",
      "[[ 75.2303559  168.83775102  24.87      ]\n",
      " [ 75.02614252 231.09732309  22.96      ]\n",
      " [ 73.1544228  215.08167641  30.76      ]\n",
      " [ 73.42614252 219.09732309  23.88      ]\n",
      " [ 74.1244228  193.08167641  28.54      ]\n",
      " [ 70.53614252 182.09732309  42.91      ]\n",
      " [ 70.1944228  214.08167641  20.98      ]\n",
      " [ 72.86614252 211.24732309  25.55      ]\n",
      " [ 77.2244228  236.26167641  25.91      ]\n",
      " [ 72.85614252 194.09732309  29.23      ]\n",
      " [ 74.1549278  196.08167641  30.17      ]\n",
      " [ 74.02837593 199.09732309  25.69      ]\n",
      " [ 75.1775937  186.98167641  22.83      ]\n",
      " [ 75.17393793 177.37732309  23.76      ]\n",
      " [ 70.1125222  185.11167641  26.12      ]]\n",
      "The converted array looks like:\n",
      "[[  1.8796    81.64656   23.87    ]\n",
      " [  1.8796    97.52228   21.96    ]\n",
      " [  1.8288    95.25432   29.76    ]\n",
      " [  1.8288    95.25432   22.88    ]\n",
      " [  1.8542    85.275296  27.54    ]\n",
      " [  1.7526    79.832192  41.91    ]\n",
      " [  1.7526    94.800728  19.98    ]\n",
      " [  1.8034    90.7184    24.55    ]\n",
      " [  1.9304   104.779752  24.91    ]\n",
      " [  1.8034    81.64656   28.23    ]\n",
      " [  1.8542    85.275296  29.17    ]\n",
      " [  1.8542    81.64656   24.69    ]\n",
      " [  1.8796    83.91452   21.83    ]\n",
      " [  1.8796    72.57472   22.76    ]\n",
      " [  1.7526    81.64656   25.12    ]]\n"
     ]
    }
   ],
   "source": [
    "# Try your answer to problem #27 here.\n",
    "# Remember that you can get an answer by running solution1_27()\n",
    "# You can run the solution code by removing the '#' below and\n",
    "# then running this cell.\n",
    "\n",
    "baseball = [[74, 180, 23.87],\n",
    "            [74, 215, 21.96],\n",
    "            [72, 210, 29.76],\n",
    "            [72, 210, 22.88],\n",
    "            [73, 188, 27.54],\n",
    "            [69, 176, 41.91],\n",
    "            [69, 209, 19.98],\n",
    "            [71, 200, 24.55],\n",
    "            [76, 231, 24.91],\n",
    "            [71, 180, 28.23],\n",
    "            [73, 188, 29.17],\n",
    "            [73, 180, 24.69],\n",
    "            [74, 185, 21.83],\n",
    "            [74, 160, 22.76],\n",
    "            [69, 180, 25.12]]\n",
    "\n",
    "updated = [[1.2303559 , -11.16224898, 1],\n",
    "           [1.02614252,  16.09732309, 1],\n",
    "           [1.1544228 ,   5.08167641, 1],\n",
    "           [1.42614252,   9.09732309, 1],\n",
    "           [1.1244228 ,   5.08167641, 1],   \n",
    "           [1.53614252,   6.09732309, 1],\n",
    "           [1.1944228 ,   5.08167641, 1],   \n",
    "           [1.86614252,  11.24732309, 1],\n",
    "           [1.2244228 ,   5.26167641, 1],   \n",
    "           [1.85614252,  14.09732309, 1],\n",
    "           [1.1549278 ,   8.08167641, 1],   \n",
    "           [1.02837593,  19.09732309, 1],\n",
    "           [1.1775937 ,   1.98167641, 1],   \n",
    "           [1.17393793,  17.37732309, 1],\n",
    "           [1.1125222 ,   5.11167641, 1]]   \n",
    "\n",
    "solution1_27()  "
   ]
  },
  {
   "cell_type": "markdown",
   "metadata": {},
   "source": [
    "### **Try the following problem #28**\n",
    "After looking at the height, weight, and age data from **baseball**, you notice that some height values are abnormally high. Lets investigate.\n",
    "- Create a **numpy** array **np_height_in** that is equal to the first column of **np_baseball**.\n",
    "- Print out the mean of **np_height_in**.\n",
    "- Print out the median of **np_height_in**.\n",
    "If you want to see the solution to this problem, run the code **solution1_28()** in an empty cell."
   ]
  },
  {
   "cell_type": "code",
   "execution_count": 29,
   "metadata": {},
   "outputs": [
    {
     "name": "stdout",
     "output_type": "stream",
     "text": [
      "We create np_height_in with: np_height_in = np_baseball[:,0]\n",
      "We print the mean with: print(np.mean(np_height_in))\n",
      "We print the median with: print(np.median(np_height_in))\n",
      "\n",
      "The mean value is: 732.2666666666667\n",
      "The median valie is: 73.0\n"
     ]
    }
   ],
   "source": [
    "# Try your answer to problem #28 here.\n",
    "# Remember that you can get an answer by running solution1_28()\n",
    "# You can run the solution code by removing the '#' below and\n",
    "# then running this cell.\n",
    "\n",
    "baseball = [[74, 180, 23.87],\n",
    "            [74, 215, 21.96],\n",
    "            [72, 210, 29.76],\n",
    "            [72, 210, 22.88],\n",
    "            [73, 188, 27.54],\n",
    "            [9969, 176, 41.91],\n",
    "            [69, 209, 19.98],\n",
    "            [71, 200, 24.55],\n",
    "            [76, 231, 24.91],\n",
    "            [71, 180, 28.23],\n",
    "            [73, 188, 29.17],\n",
    "            [73, 180, 24.69],\n",
    "            [74, 185, 21.83],\n",
    "            [74, 160, 22.76],\n",
    "            [69, 180, 25.12]]                        \n",
    "\n",
    "solution1_28()  "
   ]
  },
  {
   "cell_type": "markdown",
   "metadata": {},
   "source": [
    "### **Try the following problem #29**\n",
    "Lets put everything we have learned so far together here. You have now received information from the MLS. They have provided you with two lists. **positions** contains player positions as **GK, M, A, D** for goalkeeper, midfield, attack, or defense. The second list, **heights**, contains the integer value for each players height in centimeters. You think that the median height of goalkeepers is higher than that of other players on the field. Are you right?\n",
    "- Convert **height** and **positions**, which are regular lists, to numpy arrays and call them **np_heights** and **np_positions**.\n",
    "- Extract all the heights of goalkeepers. You can use a little trick here: use the **np_positions == 'GK** as an index for **np_heights**. Assign the results to **gk_heights**.\n",
    "- Extract the heights of all other players by using **np_positions != 'GK'** as an index for **np_heights** and assign this to **other_heights**.\n",
    "- Print out the median height of the goalkeepers using **np.median()**.\n",
    "- Do the same for the other positions.\n",
    "If you want to see the solution to this problem, run the code **solution1_29()** in an empty cell."
   ]
  },
  {
   "cell_type": "code",
   "execution_count": 30,
   "metadata": {},
   "outputs": [
    {
     "name": "stdout",
     "output_type": "stream",
     "text": [
      "We create np_positions with: np_positions = np.array(positions)\n",
      "We create np_heights with: np_positions = np.array(heights)\n",
      "We extract GK heights with: gk_heights = np_heights[np_positions =='GK']\n",
      "We extract other heights with: other_heights = np_heights[np_positions !='GK']\n",
      "We create and display GK median height with: print('Median height of goalkeepers: ' + str(np.median(gk_heights)))\n",
      "We create and display other median height with: print('Median height of other: ' + str(np.median(other_heights)))\n",
      "\n",
      "gk_heights looks like:\n",
      "[191 194 192 187 199 195]\n",
      "other_heights looks like:\n",
      "[187 188 190 177 171 159 185 185 174 177 171 159 172 171 179 185 184 188\n",
      " 174 179 176 168 166 161]\n",
      "Median height of goalkeepers: 193.0\n",
      "Median height of other: 176.5\n"
     ]
    }
   ],
   "source": [
    "# Try your answer to problem #29 here.\n",
    "# Remember that you can get an answer by running solution1_29()\n",
    "# You can run the solution code by removing the '#' below and\n",
    "# then running this cell.\n",
    "\n",
    "positions = ['GK', 'M', 'A', 'GK', 'GK', 'D', 'A', 'GK', 'D', 'M',\n",
    "             'M', 'GK', 'A', 'A', 'A', 'D', 'D', 'M', 'D', 'A',\n",
    "             'GK', 'A', 'M', 'M', 'D', 'A', 'M', 'D', 'A', 'M']\n",
    "heights = [191, 187, 188, 194, 192, 190, 177, 187, 171, 159,\n",
    "           185, 199, 185, 174, 177, 171, 159, 172, 171, 179,\n",
    "           195, 185, 184, 188, 174, 179, 176, 168, 166, 161]  \n",
    "\n",
    "solution1_29()  "
   ]
  },
  {
   "cell_type": "code",
   "execution_count": null,
   "metadata": {},
   "outputs": [],
   "source": []
  }
 ],
 "metadata": {
  "kernelspec": {
   "display_name": "Python 3",
   "language": "python",
   "name": "python3"
  },
  "language_info": {
   "codemirror_mode": {
    "name": "ipython",
    "version": 3
   },
   "file_extension": ".py",
   "mimetype": "text/x-python",
   "name": "python",
   "nbconvert_exporter": "python",
   "pygments_lexer": "ipython3",
   "version": "3.7.4"
  }
 },
 "nbformat": 4,
 "nbformat_minor": 2
}
