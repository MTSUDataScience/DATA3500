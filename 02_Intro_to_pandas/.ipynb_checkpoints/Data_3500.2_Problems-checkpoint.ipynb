{
 "cells": [
  {
   "cell_type": "markdown",
   "metadata": {},
   "source": [
    "# **Solutions**\n",
    "- Run this cell before starting the notebook. You do not need to look at or understand the code. By running this, you will allow yourself to see solutions throughout the notebook as I ask you to solve problems."
   ]
  },
  {
   "cell_type": "code",
   "execution_count": 21,
   "metadata": {},
   "outputs": [],
   "source": [
    "%%capture\n",
    "%load_ext autoreload\n",
    "%autoreload 2\n",
    "\n",
    "!pip install --upgrade git+https://github.com/MTSUDataScience/DATA3500.git\n",
    "\n",
    "from course_solutions.Data3500_ICPS import *"
   ]
  },
  {
   "cell_type": "markdown",
   "metadata": {},
   "source": [
    "### **Try the following problem #1**\n",
    "\n",
    "Look at the two provided lists, **contries** and **capitals**.\n",
    "- Use the **index()** method on countries to find the index of **germany**. Store the index as **ind_ger**.\n",
    "- Use **ind_ger** to access the capital on Germany from the **capitals** list. Print it out.\n",
    "- Convert a dictionary with **countries** and **capitals** called **europe**.\n",
    "- Print out **europe** to see the result.\n",
    "- Examine which keys are in **europe** by calling the **keys()** method on **europe**. Print the results.\n",
    "- Print out the value that belongs to the key **norway**.\n",
    "\n",
    "If you want to see the solution to this problem, run the code **solution2_1()** in an empty cell."
   ]
  },
  {
   "cell_type": "code",
   "execution_count": 5,
   "metadata": {},
   "outputs": [
    {
     "name": "stdout",
     "output_type": "stream",
     "text": [
      "We can get the index of Germany with: ind_ger = countries.index('germany')\n",
      "We can print the capital of Germany with: print(capitals[ind_ger])\n",
      "We create a dictionary with: europe = {'spain':'madrid',...,'norway':'oslo'}\n",
      "We can see our dictionary with: print(europe)\n",
      "We can see the keys with: print(europe.keys())\n",
      "We can see the value of key norway with: print(europe['norway'])\n",
      "\n",
      "ind_ger looks like: 2\n",
      "The capital of Germany is: berlin\n",
      "europe looks like: {'spain': 'madrid', 'france': 'paris', 'germany': 'berlin', 'norway': 'oslo'}\n",
      "The keys are: dict_keys(['spain', 'france', 'germany', 'norway'])\n",
      "The value that belongs to key norway is: oslo\n"
     ]
    }
   ],
   "source": [
    "# Try your answer to problem #1 here.\n",
    "# Remember that you can get an answer by running solution2_1()\n",
    "# You can run the solution code by removing the '#' below and\n",
    "# then running this cell.\n",
    "\n",
    "countries = ['spain', 'france', 'germany', 'norway']\n",
    "capitals = ['madrid', 'paris', 'berlin', 'oslo']\n",
    "\n",
    "solution2_1()"
   ]
  },
  {
   "cell_type": "markdown",
   "metadata": {},
   "source": [
    "### **Try the following problem #2**\n",
    "\n",
    "We will continue working with the dictionary we just create, **europe**.\n",
    "- Add the key **italy** with the value **rome** to **europe**.\n",
    "- To assert that **italy** is now a key in **europe**, print out **italy** in **europe**.\n",
    "- Add another key:value pair to **europe**. **poland** is the key and **warsaw** is the value.\n",
    "- Print the updated **europe**.\n",
    "\n",
    "If you want to see the solution to this problem, run the code **solution2_2()** in an empty cell."
   ]
  },
  {
   "cell_type": "code",
   "execution_count": 6,
   "metadata": {},
   "outputs": [
    {
     "name": "stdout",
     "output_type": "stream",
     "text": [
      "We add italy and rome to europe with: europe['italy'] = 'rome'\n",
      "We print italy in europe with: print('italy' in europe)\n",
      "We add poland and warsaw with: europe['poland'] = 'warsaw'\n",
      "We print the updated europe with: print(europe)\n",
      "\n",
      "italy in europe looks like: True\n",
      "the updated europe looks like:\n",
      "{'spain': 'madrid', 'france': 'paris', 'germany': 'berlin', 'norway': 'oslo', 'italy': 'rome', 'poland': 'warsaw'}\n"
     ]
    }
   ],
   "source": [
    "# Try your answer to problem #2 here.\n",
    "# Remember that you can get an answer by running solution2_2()\n",
    "# You can run the solution code by removing the '#' below and\n",
    "# then running this cell.\n",
    "\n",
    "europe = {'spain':'madrid', 'france':'paris', 'germany':'berlin', 'norway':'oslo' }       \n",
    "    \n",
    "solution2_2()"
   ]
  },
  {
   "cell_type": "markdown",
   "metadata": {},
   "source": [
    "### **Try the following problem #3**\n",
    "\n",
    "Someone made some unwanted changes to your **europe** dicitionary which don't seem to be correct.\n",
    "- The capital of Germany is not **bonn**; it's **berlin**. Update its value.\n",
    "- Australia is not in Europe, Austria is. Remove the key **australia** from **europe**.\n",
    "- Print out **europe** to see if you've fixed the problems.\n",
    "\n",
    "If you want to see the solution to this problem, run the code **solution2_3()** in an empty cell."
   ]
  },
  {
   "cell_type": "code",
   "execution_count": 7,
   "metadata": {},
   "outputs": [
    {
     "name": "stdout",
     "output_type": "stream",
     "text": [
      "We can update the capital of germany with: europe['germany'] = 'berlin'\n",
      "We can remove australia with: del(europe['australia'])\n",
      "We can see the updated europe with: print(europe)\n",
      "\n",
      "The updated europe looks like:\n",
      "{'spain': 'madrid', 'france': 'paris', 'germany': 'berlin', 'norway': 'oslo', 'italy': 'rome', 'poland': 'warsaw'}\n"
     ]
    }
   ],
   "source": [
    "# Try your answer to problem #3 here.\n",
    "# Remember that you can get an answer by running solution2_3()\n",
    "# You can run the solution code by removing the '#' below and\n",
    "# then running this cell.\n",
    "\n",
    "europe = {'spain':'madrid', 'france':'paris', 'germany':'bonn',\n",
    "          'norway':'oslo', 'italy':'rome', 'poland':'warsaw',\n",
    "          'australia':'vienna'}\n",
    "    \n",
    "solution2_3()    "
   ]
  },
  {
   "cell_type": "markdown",
   "metadata": {},
   "source": [
    "### **Try the following problem #4**\n",
    "\n",
    "Dictionaries can contain lists as well. Look at the newly provided dictionary called **europe**. The keys are the country names, but the values now have more information than just the capital. To fetch the population for spain from **europe**, we can use **europe['spain']['population']\n",
    "- Use the chained square brackets to select and print out the capital of france.\n",
    "- Create a dictionary named **data**, with the keys **capital** and **population**. Set them to **rome** and **59.83.\n",
    "- Add a new key-value pair to **europe**; the key is **italy** and the value is **data**, the dictionary you just built.\n",
    "\n",
    "If you want to see the solution to this problem, run the code **solution2_4()** in an empty cell."
   ]
  },
  {
   "cell_type": "code",
   "execution_count": 8,
   "metadata": {},
   "outputs": [
    {
     "name": "stdout",
     "output_type": "stream",
     "text": [
      "We can print the capital of france with: print(europe['france']['capital'])\n",
      "We create data with: data = {'capital':'rome','population':59.83}\n",
      "We add data to euope under key 'italy' with: europe['italy'] = data\n",
      "We can print updated europe with: print(europe)\n",
      "\n",
      "The capital of france is: paris\n",
      "data looks like: {'capital': 'rome', 'population': 59.83}\n",
      "The updated europe looks like:\n",
      "{'spain': {'capital': 'madrid', 'population': 46.77}, 'france': {'capital': 'paris', 'population': 66.03}, 'germany': {'capital': 'berlin', 'population': 80.62}, 'norway': {'capital': 'oslo', 'population': 5.084}, 'italy': {'capital': 'rome', 'population': 59.83}}\n"
     ]
    }
   ],
   "source": [
    "# Try your answer to problem #4 here.\n",
    "# Remember that you can get an answer by running solution2_4()\n",
    "# You can run the solution code by removing the '#' below and\n",
    "# then running this cell.\n",
    "\n",
    "europe = { 'spain': { 'capital':'madrid', 'population':46.77 },\n",
    "           'france': { 'capital':'paris', 'population':66.03 },\n",
    "           'germany': { 'capital':'berlin', 'population':80.62 },\n",
    "           'norway': { 'capital':'oslo', 'population':5.084 } }\n",
    "    \n",
    "solution2_4()    "
   ]
  },
  {
   "cell_type": "markdown",
   "metadata": {},
   "source": [
    "### **Try the following problem #5**\n",
    "\n",
    "We will start by convertings lists to dictionaries. The list **names** contains country names, the list **dr** is a list of booleans that tells whether people drive on the right side of the rode in that country, and **cpc** is a list of the number of motor vehicles per 1000 people in that country.\n",
    "- Use the pre-defined lists to create a dictionary called **my_dict**. There should be three key:value pairs.\n",
    "    - key **country** and value **names.\n",
    "    - key **drives_right** and value **dr**.\n",
    "    - key **cars_per_cap** and value **cpc**.\n",
    "- Use pd.DataFrame() to turn your dict into a DataFrame called **cars**.\n",
    "- Print out **cars**.\n",
    "- Specify the row labels by setting **cars.index** equal to **row_labels**.\n",
    "- Reprint **cars**.\n",
    "\n",
    "If you want to see the solution to this problem, run the code **solution2_5()** in an empty cell."
   ]
  },
  {
   "cell_type": "code",
   "execution_count": 9,
   "metadata": {},
   "outputs": [
    {
     "name": "stdout",
     "output_type": "stream",
     "text": [
      "You create my_dict with: my_dict = {'country':names, 'drives_right':dr, 'cars_per_cap':cpc}\n",
      "We convert this to a DataFrame with: cars = pd.DataFrame(my_dict)\n",
      "We print out cars with: print(cars)\n",
      "We set new row labels with: cars.index = row_labels\n",
      "\n",
      "cars looks like:\n",
      "         country  drives_right  cars_per_cap\n",
      "0  United States          True           809\n",
      "1      Australia         False           731\n",
      "2          Japan         False           588\n",
      "3          India         False            18\n",
      "4         Russia          True           200\n",
      "5        Morocco          True            70\n",
      "6          Egypt          True            45\n",
      "The updated cars now looks like:\n",
      "           country  drives_right  cars_per_cap\n",
      "US   United States          True           809\n",
      "AUS      Australia         False           731\n",
      "JPN          Japan         False           588\n",
      "IN           India         False            18\n",
      "RU          Russia          True           200\n",
      "MOR        Morocco          True            70\n",
      "EG           Egypt          True            45\n"
     ]
    }
   ],
   "source": [
    "# Try your answer to problem #5 here.\n",
    "# Remember that you can get an answer by running solution2_5()\n",
    "# You can run the solution code by removing the '#' below and\n",
    "# then running this cell.\n",
    "\n",
    "names = ['United States', 'Australia', 'Japan', 'India', 'Russia', 'Morocco', 'Egypt']\n",
    "dr =  [True, False, False, False, True, True, True]\n",
    "cpc = [809, 731, 588, 18, 200, 70, 45]\n",
    "row_labels = ['US', 'AUS', 'JPN', 'IN', 'RU', 'MOR', 'EG']   \n",
    "    \n",
    "solution2_5()    "
   ]
  },
  {
   "cell_type": "markdown",
   "metadata": {},
   "source": [
    "### **Try the following problem #6**\n",
    "\n",
    "We cannot reasonable create a DataFrame from a dictionary if the dataset is large. We will create a DataFrame from a commo-separated values file, or CSV.\n",
    "- To import CSV files you still need the **pandas** package.\n",
    "- Use **pd.read_csv()** to import **driving.csv** data as a DataFrame. Store this data as **cars**.\n",
    "- Remember to specify that the index is in column 0.\n",
    "- Print out **cars**.\n",
    "\n",
    "If you want to see the solution to this problem, run the code **solution2_6()** in an empty cell."
   ]
  },
  {
   "cell_type": "code",
   "execution_count": 10,
   "metadata": {},
   "outputs": [
    {
     "name": "stdout",
     "output_type": "stream",
     "text": [
      "We import driving with: cars = pd.read_csv('Data/driving.csv', index_col = 0)\n",
      "My driving file is located in the subfolder Data, your file may be elsewhere.\n",
      "We print cars with: print(cars)\n",
      "\n",
      "Cars looks like:\n",
      "    cars_per_cap         country  drives_right\n",
      "US           809   United States          True\n",
      "UK           621  United Kingdom         False\n",
      "HK           577       Hong Kong         False\n",
      "SG           532       Singapore         False\n",
      "RU           200          Russia          True\n",
      "IT            70           Italy          True\n",
      "LU            41      Luxembourg          True\n"
     ]
    }
   ],
   "source": [
    "# Try your answer to problem #6 here.\n",
    "# Remember that you can get an answer by running solution2_6()\n",
    "# You can run the solution code by removing the '#' below and\n",
    "# then running this cell.\n",
    "\n",
    "solution2_6()    "
   ]
  },
  {
   "cell_type": "markdown",
   "metadata": {},
   "source": [
    "### **Try the following problem #7**\n",
    "\n",
    "Continue working with the driving dataset.\n",
    "- Use single square brackets to print out the **country** column of **cars** as a pandas Series.\n",
    "- Use double square brackets to print out the **country** column of **cars** as a pandas DataFrame.\n",
    "- Use double square brackets to print out a DataFrame with both **country** and **drives_right** columns.\n",
    "- Select the first 3 observations from **cars** and print them out.\n",
    "- Select the **fourth, fifth, and sixth** observation, corresponding to row indexes 3, 4, and 5 and print them.\n",
    "\n",
    "If you want to see the solution to this problem, run the code **solution2_7()** in an empty cell."
   ]
  },
  {
   "cell_type": "code",
   "execution_count": 11,
   "metadata": {},
   "outputs": [
    {
     "name": "stdout",
     "output_type": "stream",
     "text": [
      "We import driving with: cars = pd.read_csv('Data/driving.csv', index_col = 0)\n",
      "We print out country as a Series with: print(cars['country')\n",
      "We print out country as a DataFrame with: print(cars[['country']])\n",
      "We print out country and drives_right as a DataFrame with: print(cars[['country', 'drives_right']])\n",
      "We print the first 3 observations with: print(cars[0:3])\n",
      "We print the 4th, 5th, and 6th observations with: print(cars[3:6])\n",
      "\n",
      "country as a Series looks like:\n",
      "US     United States\n",
      "UK    United Kingdom\n",
      "HK         Hong Kong\n",
      "SG         Singapore\n",
      "RU            Russia\n",
      "IT             Italy\n",
      "LU        Luxembourg\n",
      "Name: country, dtype: object\n",
      "country as a DataFrame looks like:\n",
      "           country\n",
      "US   United States\n",
      "UK  United Kingdom\n",
      "HK       Hong Kong\n",
      "SG       Singapore\n",
      "RU          Russia\n",
      "IT           Italy\n",
      "LU      Luxembourg\n",
      "country and drives_right as a DataFrame look like:\n",
      "           country  drives_right\n",
      "US   United States          True\n",
      "UK  United Kingdom         False\n",
      "HK       Hong Kong         False\n",
      "SG       Singapore         False\n",
      "RU          Russia          True\n",
      "IT           Italy          True\n",
      "LU      Luxembourg          True\n",
      "The first 3 observations are:\n",
      "    cars_per_cap         country  drives_right\n",
      "US           809   United States          True\n",
      "UK           621  United Kingdom         False\n",
      "HK           577       Hong Kong         False\n",
      "The 4th, 5th, and 6th observations are:\n",
      "    cars_per_cap    country  drives_right\n",
      "SG           532  Singapore         False\n",
      "RU           200     Russia          True\n",
      "IT            70      Italy          True\n"
     ]
    }
   ],
   "source": [
    "# Try your answer to problem #7 here.\n",
    "# Remember that you can get an answer by running solution2_7()\n",
    "# You can run the solution code by removing the '#' below and\n",
    "# then running this cell.\n",
    "   \n",
    "solution2_7()    "
   ]
  },
  {
   "cell_type": "markdown",
   "metadata": {},
   "source": [
    "### **Try the following problem #8**\n",
    "\n",
    "Continue working with the driving dataset, but this time we fill focus on loc and iloc.\n",
    "- Use **loc** or **iloc** to select the observation corresponding to Hong Kong as a Series. The label of this row in **HK**, the index is **2**. Print the result.\n",
    "- Use **loc** or **iloc** to select the observations for the United Kingdom and Luxembourg as a DataFrame. You can determine the labels/indexes of these rows by inspecting **cars**.\n",
    "- Print out the **drives_right** value of the row corresponding to Italy (row label **IT**)\n",
    "- Print out a DataFrame containing the observations for Russia and Italy and the columns **country** and **drives_right**.\n",
    "- Print out the **drives_right** column as a Series using **loc** or **iloc**.\n",
    "- Print out the **drives_right** column as a DataFrame using **loc** or **iloc**.\n",
    "- Print out both the **cars_per_cap** and **drives_right** column as a DataFrame using **loc** or **iloc**.\n",
    "\n",
    "If you want to see the solution to this problem, run the code **solution2_8()** in an empty cell."
   ]
  },
  {
   "cell_type": "code",
   "execution_count": 12,
   "metadata": {},
   "outputs": [
    {
     "name": "stdout",
     "output_type": "stream",
     "text": [
      "We print the observation for Hong Kong with: print(cars.loc['HK'])\n",
      "We print observations for the United Kingdom and Luxembourg as a DataFrame with: print(cars.loc[['UK','LU']])\n",
      "We print drives right for Italy with: print(cars.loc['IT', 'drives_right'])\n",
      "We print the DataFrame of Russia and Italy for columns country and drives_right with: print(cars.loc[['RU', 'IT'], ['country','drives_right']])\n",
      "We print drives_right as a Series with: print(cars.iloc[:,[2]])\n",
      "We print drives_right as a DataFrame with: print(cars.loc[:,'drives_right'])\n",
      "We print cars_per_cap and drives_right as a DataFrame with: print(cars.loc[:,['cars_per_cap', 'drives_right']])\n",
      "\n",
      "Hong Kong looks like:\n",
      "cars_per_cap          577\n",
      "country         Hong Kong\n",
      "drives_right        False\n",
      "Name: HK, dtype: object\n",
      "United Kingdom and Luxembourg look like:\n",
      "    cars_per_cap         country  drives_right\n",
      "UK           621  United Kingdom         False\n",
      "LU            41      Luxembourg          True\n",
      "drives_right for Italy looks like\n",
      "True\n",
      "The DataFrame looks like:\n",
      "   country  drives_right\n",
      "RU  Russia          True\n",
      "IT   Italy          True\n",
      "drives_right as a Series looks like:\n",
      "    drives_right\n",
      "US          True\n",
      "UK         False\n",
      "HK         False\n",
      "SG         False\n",
      "RU          True\n",
      "IT          True\n",
      "LU          True\n",
      "drives_right as a DataFrame looks like:\n",
      "US     True\n",
      "UK    False\n",
      "HK    False\n",
      "SG    False\n",
      "RU     True\n",
      "IT     True\n",
      "LU     True\n",
      "Name: drives_right, dtype: bool\n",
      "cars_per_cap and drives_right as a DataFrame looks like:\n",
      "    cars_per_cap  drives_right\n",
      "US           809          True\n",
      "UK           621         False\n",
      "HK           577         False\n",
      "SG           532         False\n",
      "RU           200          True\n",
      "IT            70          True\n",
      "LU            41          True\n"
     ]
    }
   ],
   "source": [
    "# Try your answer to problem #8 here.\n",
    "# Remember that you can get an answer by running solution2_8()\n",
    "# You can run the solution code by removing the '#' below and\n",
    "# then running this cell.\n",
    "\n",
    "solution2_8()    "
   ]
  },
  {
   "cell_type": "markdown",
   "metadata": {},
   "source": [
    "### **Try the following problem #9**\n",
    "\n",
    "Continue working with the driving dataset, but this time we fill focus on loc and iloc.\n",
    "- Extract the **drives_right** column as a pandas Series and store it as **dr**.\n",
    "- Use **dr**, a boolean Series, to subset the **cars** DataFrame. Store the results in **sel**.\n",
    "- Print **sel**, and confirm that **drives_right** is **True** for all observations.\n",
    "- Now accomplish the creation of **sel** with one line of code.\n",
    "- Select the **cars_per_cap** column as a Series and store it as **cpc**.\n",
    "- Use **cpc** with a comparison operator and **500**. End up with aboolean that is **True** is a country has a **cars_per_cap** of more than **500** and **False** otherwise. Store this in **many_cars**.\n",
    "- Use **many_cars** to subset **cars** and store it in **lots_of_cars** then print it out.\n",
    "- Create **middle** which includes all **cars_per_cap** between **100** and **500** then print it out. Try using .loc for the solution.\n",
    "\n",
    "If you want to see the solution to this problem, run the code **solution2_9()** in an empty cell."
   ]
  },
  {
   "cell_type": "code",
   "execution_count": 13,
   "metadata": {},
   "outputs": [
    {
     "name": "stdout",
     "output_type": "stream",
     "text": [
      "We can import data with: cars = pd.read_csv('Data/driving.csv', index_col = 0)\n",
      "Extract drives_right with: dr = cars['drives_right']\n",
      "Subset cars with: sel = cars[dr]\n",
      "Print the results with: print(sel)\n",
      "Create sel in one line with: sel = cars[cars['drives_right']]\n",
      "Create cpc with: cpc = cars['cars_per_cap']\n",
      "Create many_cars with: many_cars = cpc > 500\n",
      "Create lots_of_cars with: lots_of_cars = cars[many_cars]\n",
      "Print lots_of_cars with: print(lots_of_cars)\n",
      "Create medium with: medium = cars.loc[(cars['cars_per_cap'] > 100) & (cars['cars_per_cap'] < 500)]\n",
      "\n",
      "dr looks like:\n",
      "US     True\n",
      "UK    False\n",
      "HK    False\n",
      "SG    False\n",
      "RU     True\n",
      "IT     True\n",
      "LU     True\n",
      "Name: drives_right, dtype: bool\n",
      "sel looks like:\n",
      "    cars_per_cap        country  drives_right\n",
      "US           809  United States          True\n",
      "RU           200         Russia          True\n",
      "IT            70          Italy          True\n",
      "LU            41     Luxembourg          True\n",
      "lots_of_cars looks like:\n",
      "    cars_per_cap         country  drives_right\n",
      "US           809   United States          True\n",
      "UK           621  United Kingdom         False\n",
      "HK           577       Hong Kong         False\n",
      "SG           532       Singapore         False\n",
      "medium looks like:\n",
      "    cars_per_cap country  drives_right\n",
      "RU           200  Russia          True\n"
     ]
    }
   ],
   "source": [
    "# Try your answer to problem #9 here.\n",
    "# Remember that you can get an answer by running solution2_9()\n",
    "# You can run the solution code by removing the '#' below and\n",
    "# then running this cell.\n",
    "\n",
    "solution2_9()    "
   ]
  },
  {
   "cell_type": "markdown",
   "metadata": {},
   "source": [
    "### **Try the following problem #10**\n",
    "\n",
    "We will work with simple while loops here.\n",
    "\n",
    "- Create a a variable called **addition** with a value of 0.\n",
    "- Code a **while** loop that runs as long as **addition** is not equal to **10**.\n",
    "- Within the **while** loop, print out the sentence **'adding...'**. Next, increase the value of **addition** by 1. You can do this with **addition = addition + 1**.\n",
    "- Finally, print **addition** each time it updates.\n",
    "- Create a new loop called **addition_plus** that contains the same as above and an **if-else** statement within it.\n",
    "- If **addition** is less than 4, you should increase **addition** by 1.\n",
    "- Else you should increase **addition** by 2.\n",
    "\n",
    "If you want to see the solution to this problem, run the code **solution2_10()** in an empty cell."
   ]
  },
  {
   "cell_type": "code",
   "execution_count": 14,
   "metadata": {},
   "outputs": [
    {
     "name": "stdout",
     "output_type": "stream",
     "text": [
      "The first line of the while loop is: while addition != 10:\n",
      "The second line is: print('adding...')\n",
      "The third line is: addition = addition + 1\n",
      "The fourth line is: print(addition)\n",
      "\n",
      "The first line of the new while loop is: while addition != 10:\n",
      "The second line is: print('adding...')\n",
      "The third line is: if addition < 4:\n",
      "The fourth line is: addition = addition + 1\n",
      "The fifth line is: else:\n",
      "The sixth line is: addition = addition + 2\n",
      "The last line is: print(addition)\n",
      "The first while loop looks like:\n",
      "adding...\n",
      "1\n",
      "adding...\n",
      "2\n",
      "adding...\n",
      "3\n",
      "adding...\n",
      "4\n",
      "adding...\n",
      "5\n",
      "adding...\n",
      "6\n",
      "adding...\n",
      "7\n",
      "adding...\n",
      "8\n",
      "adding...\n",
      "9\n",
      "adding...\n",
      "10\n",
      "The second while loop looks like:\n",
      "adding...\n",
      "1\n",
      "adding...\n",
      "2\n",
      "adding...\n",
      "3\n",
      "adding...\n",
      "4\n",
      "adding...\n",
      "6\n",
      "adding...\n",
      "8\n",
      "adding...\n",
      "10\n"
     ]
    }
   ],
   "source": [
    "# Try your answer to problem #10 here.\n",
    "# Remember that you can get an answer by running solution2_10()\n",
    "# You can run the solution code by removing the '#' below and\n",
    "# then running this cell.\n",
    "\n",
    "addition = 0\n",
    "\n",
    "solution2_10()    "
   ]
  },
  {
   "cell_type": "markdown",
   "metadata": {},
   "source": [
    "### **Try the following problem #11**\n",
    "\n",
    "We will work with for loops here.\n",
    "\n",
    "- Write a **for** loop that goes through each sublist of **work** and print out **the x is y sqm**, where x is the name of the area and y is the size of the area.\n",
    "\n",
    "If you want to see the solution to this problem, run the code **solution2_11()** in an empty cell."
   ]
  },
  {
   "cell_type": "code",
   "execution_count": 15,
   "metadata": {},
   "outputs": [
    {
     "name": "stdout",
     "output_type": "stream",
     "text": [
      "The first line is: for x in work:\n",
      "The second line is: print('the ' + x[0]) + ' is ' + str(x[1]) + ' sqm.'\n",
      "\n",
      "the office is 11.25 sqm.\n",
      "the breakroom is 18.0 sqm.\n",
      "the boardroom is 20.0 sqm.\n",
      "the corner office is 18.75 sqm.\n",
      "the bathroom is 7.5 sqm.\n"
     ]
    }
   ],
   "source": [
    "# Try your answer to problem #1 here.\n",
    "# Remember that you can get an answer by running solution2_11()\n",
    "# You can run the solution code by removing the '#' below and\n",
    "# then running this cell.\n",
    "\n",
    "work = [[\"office\", 11.25], \n",
    "         [\"breakroom\", 18.0], \n",
    "         [\"boardroom\", 20.0], \n",
    "         [\"corner office\", 18.75], \n",
    "         [\"bathroom\", 7.50]]\n",
    "        \n",
    "solution2_11()        "
   ]
  },
  {
   "cell_type": "markdown",
   "metadata": {},
   "source": [
    "### **Try the following problem #12**\n",
    "\n",
    "Looping over a DataFrame.\n",
    "\n",
    "- Write a **for** loop that iterates over the rows of **cars** and on each iteration perform two **print()** calls. First, price out the row label and then print out all the row contents.\n",
    "- Create a new **for** loop that prints the label and the cars per capita values.\n",
    "- Use a **for** loop to add a new column named **C_NAME** that contains the uppercase version of the **country** name. You can use the string method **upper()**. Print your result.\n",
    "- Finally, use **apply(str.upper)** to accomplish the same thing to a new column called **C_NAME_APPLY**.\n",
    "\n",
    "\n",
    "If you want to see the solution to this problem, run the code **solution2_9()** in an empty cell."
   ]
  },
  {
   "cell_type": "code",
   "execution_count": 16,
   "metadata": {},
   "outputs": [
    {
     "name": "stdout",
     "output_type": "stream",
     "text": [
      "The first line of the for loop is: for l, r in cars.iterrows():\n",
      "The second line is: print(l)\n",
      "The third line is: print(r)\n",
      "\n",
      "The first line is now: for l, r in cars.iterrows():\n",
      "The second line is: print(l + ': ' + str(r['cars_per_cap']))\n",
      "\n",
      "We can add a column by changing the second line to: cars.loc[l, 'C_NAME'] = r['country'].upper()\n",
      "\n",
      "We do this using apply with: cars['C_NAME_APPLY'] = cars['country'].apply(str.upper)\n",
      "US\n",
      "cars_per_cap              809\n",
      "country         United States\n",
      "drives_right             True\n",
      "Name: US, dtype: object\n",
      "UK\n",
      "cars_per_cap               621\n",
      "country         United Kingdom\n",
      "drives_right             False\n",
      "Name: UK, dtype: object\n",
      "HK\n",
      "cars_per_cap          577\n",
      "country         Hong Kong\n",
      "drives_right        False\n",
      "Name: HK, dtype: object\n",
      "SG\n",
      "cars_per_cap          532\n",
      "country         Singapore\n",
      "drives_right        False\n",
      "Name: SG, dtype: object\n",
      "RU\n",
      "cars_per_cap       200\n",
      "country         Russia\n",
      "drives_right      True\n",
      "Name: RU, dtype: object\n",
      "IT\n",
      "cars_per_cap       70\n",
      "country         Italy\n",
      "drives_right     True\n",
      "Name: IT, dtype: object\n",
      "LU\n",
      "cars_per_cap            41\n",
      "country         Luxembourg\n",
      "drives_right          True\n",
      "Name: LU, dtype: object\n",
      "\n",
      "US: 809\n",
      "UK: 621\n",
      "HK: 577\n",
      "SG: 532\n",
      "RU: 200\n",
      "IT: 70\n",
      "LU: 41\n",
      "\n",
      "    cars_per_cap         country  drives_right          C_NAME\n",
      "US           809   United States          True   UNITED STATES\n",
      "UK           621  United Kingdom         False  UNITED KINGDOM\n",
      "HK           577       Hong Kong         False       HONG KONG\n",
      "SG           532       Singapore         False       SINGAPORE\n",
      "RU           200          Russia          True          RUSSIA\n",
      "IT            70           Italy          True           ITALY\n",
      "LU            41      Luxembourg          True      LUXEMBOURG\n",
      "\n",
      "    cars_per_cap         country  drives_right          C_NAME    C_NAME_APPLY\n",
      "US           809   United States          True   UNITED STATES   UNITED STATES\n",
      "UK           621  United Kingdom         False  UNITED KINGDOM  UNITED KINGDOM\n",
      "HK           577       Hong Kong         False       HONG KONG       HONG KONG\n",
      "SG           532       Singapore         False       SINGAPORE       SINGAPORE\n",
      "RU           200          Russia          True          RUSSIA          RUSSIA\n",
      "IT            70           Italy          True           ITALY           ITALY\n",
      "LU            41      Luxembourg          True      LUXEMBOURG      LUXEMBOURG\n"
     ]
    }
   ],
   "source": [
    "# Try your answer to problem #12 here.\n",
    "# Remember that you can get an answer by running solution2_12()\n",
    "# You can run the solution code by removing the '#' below and\n",
    "# then running this cell.\n",
    "\n",
    "import pandas as pd\n",
    "#cars = pd.read_csv('https://raw.githubusercontent.com/MTSUDataScience/DATA3500/master/02_Intro_to_pandas/Data/driving.csv', index_col = 0)\n",
    "\n",
    "solution2_12()"
   ]
  },
  {
   "cell_type": "markdown",
   "metadata": {},
   "source": [
    "### **Try the following problem #13**\n",
    "\n",
    "Use list comprehension.\n",
    "\n",
    "- Use the range of numbers from **0** to **9** as your iterable and **i** as your iterator variable. Write a list comprehension that produces a list of numbers consisting of the squared values of **i**.\n",
    "- Work with a nested list comprehnsion to solve this. In the innter list comprehension (the output expression of the nested list comprehension) create a list of values from **0** to **4** using **range()**. Use **c** as the iterator variable. In the iterable part of your nested list comprehension, use **range()** to count 5 rows (create a list of values from **0** to **4**). Use **r** as the iterator variable.\n",
    "\n",
    "If you want to see the solution to this problem, run the code **solution2_13()** in an empty cell."
   ]
  },
  {
   "cell_type": "code",
   "execution_count": 17,
   "metadata": {},
   "outputs": [
    {
     "name": "stdout",
     "output_type": "stream",
     "text": [
      "We solve this with: square_num = [i**2 for i in range(0,10)]\n",
      "\n",
      "We solve the nested problem with: nested = [[c for c in range(0,5)] for r in range(0,5)]\n",
      "The solution looks like:\n",
      "[0, 1, 4, 9, 16, 25, 36, 49, 64, 81]\n",
      "The nested data looks like:\n",
      "[[0, 1, 2, 3, 4], [0, 1, 2, 3, 4], [0, 1, 2, 3, 4], [0, 1, 2, 3, 4], [0, 1, 2, 3, 4]]\n"
     ]
    }
   ],
   "source": [
    "# Try your answer to problem #13 here.\n",
    "# Remember that you can get an answer by running solution2_13()\n",
    "# You can run the solution code by removing the '#' below and\n",
    "# then running this cell.\n",
    "    \n",
    "solution2_13()"
   ]
  },
  {
   "cell_type": "markdown",
   "metadata": {},
   "source": [
    "### **Try the following problem #14**\n",
    "\n",
    "We will work with **if** statements here.\n",
    "- Examine the **if** statement that prints out the following: 'Looking for the bathroom' if **room** equals **bath**.\n",
    "- Write another **if** statement that prints out 'It is dark' if **lights** are **0**.\n",
    "- Add an **else** and an **elif** statement to the second control structure so that 'It is kind of dark' is printed if **lights** are less than 3 and so that 'It is bright' is printed otherwise.\n",
    "\n",
    "If you want to see the solution to this problem, run the code **solution2_14()** in an empty cell."
   ]
  },
  {
   "cell_type": "code",
   "execution_count": 18,
   "metadata": {},
   "outputs": [
    {
     "name": "stdout",
     "output_type": "stream",
     "text": [
      "The if statement looks like: if room == 'bath': print('Looking for the bathroom')\n",
      "The above is the correct wording, do not forget to indent!\n",
      "The next if statement looks like: if lights == 0: print('it is dark')\n",
      "The elif and else statement is: if lights == 0: print('It is dark') elif lights < 3: print('It is kind of dark') else: print('It is bright')\n",
      "Remember proper indentation!\n",
      "\n",
      "Looking for the bathroom\n",
      "It is bright\n"
     ]
    }
   ],
   "source": [
    "# Try your answer to problem #14 here.\n",
    "# Remember that you can get an answer by running solution2_14()\n",
    "# You can run the solution code by removing the '#' below and\n",
    "# then running this cell.\n",
    "\n",
    "# In the solution2_14() code, place the number of lights you want the answer for in the parentheses.\n",
    "# For example, solution2_14(1) will give you the solution if we have 1 light.\n",
    "\n",
    "room = 'bath'\n",
    "lights = 0\n",
    "\n",
    "solution2_14(3)    "
   ]
  },
  {
   "cell_type": "markdown",
   "metadata": {},
   "source": [
    "### **Try the following problem #15**\n",
    "\n",
    "Use list comprehension with conditionals.\n",
    "\n",
    "- You are given a list of strings called **members**. Using list comprehension, create a list that only includes the members of **member** that have at least 7 characters. Use **member** as the iterator variable in the list comprehension. For the conditional, use **len()** to evaluate the iterator variable.\n",
    "- Keep the string as-is if the number of characters is >= 7, else replace it with an empty string that is **''**.\n",
    "\n",
    "If you want to see the solution to this problem, run the code **solution2_15()** in an empty cell."
   ]
  },
  {
   "cell_type": "code",
   "execution_count": 19,
   "metadata": {},
   "outputs": [
    {
     "name": "stdout",
     "output_type": "stream",
     "text": [
      "We create the new list with: long_member = [member for member in members if len(member) >= 7]\n",
      "We create empty strings with: empty_member = [member if len(member) >= 7 else '' for member in members]\n",
      "\n",
      "['alejando', 'brendan']\n",
      "['', '', '', 'alejando', '', 'brendan', '']\n"
     ]
    }
   ],
   "source": [
    "# Try your answer to problem #15 here.\n",
    "# Remember that you can get an answer by running solution2_15()\n",
    "# You can run the solution code by removing the '#' below and\n",
    "# then running this cell.\n",
    "\n",
    "members = ['frank', 'samuel', 'merlin', 'alejando', 'lucas', 'brendan', 'george']\n",
    "\n",
    "solution2_15()    "
   ]
  },
  {
   "cell_type": "code",
   "execution_count": null,
   "metadata": {},
   "outputs": [],
   "source": []
  }
 ],
 "metadata": {
  "kernelspec": {
   "display_name": "Python 3",
   "language": "python",
   "name": "python3"
  },
  "language_info": {
   "codemirror_mode": {
    "name": "ipython",
    "version": 3
   },
   "file_extension": ".py",
   "mimetype": "text/x-python",
   "name": "python",
   "nbconvert_exporter": "python",
   "pygments_lexer": "ipython3",
   "version": "3.7.4"
  }
 },
 "nbformat": 4,
 "nbformat_minor": 2
}
