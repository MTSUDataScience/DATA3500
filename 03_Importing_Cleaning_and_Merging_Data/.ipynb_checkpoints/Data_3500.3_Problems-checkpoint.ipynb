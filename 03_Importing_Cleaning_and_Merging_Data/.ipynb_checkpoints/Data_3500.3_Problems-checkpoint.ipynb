{
 "cells": [
  {
   "cell_type": "markdown",
   "metadata": {},
   "source": [
    "# **Solutions**\n",
    "- Run this cell before starting the notebook. You do not need to look at or understand the code. By running this, you will allow yourself to see solutions throughout the notebook as I ask you to solve problems."
   ]
  },
  {
   "cell_type": "code",
   "execution_count": 1,
   "metadata": {},
   "outputs": [
    {
     "name": "stdout",
     "output_type": "stream",
     "text": [
      "Collecting git+https://github.com/MTSUDataScience/DATA3500.git\n",
      "  Cloning https://github.com/MTSUDataScience/DATA3500.git to /private/var/folders/mk/xybl65rx0vxcq605sd2tlrc00000gn/T/pip-req-build-2de4jggj\n",
      "  Running command git clone -q https://github.com/MTSUDataScience/DATA3500.git /private/var/folders/mk/xybl65rx0vxcq605sd2tlrc00000gn/T/pip-req-build-2de4jggj\n",
      "Building wheels for collected packages: data3500\n",
      "  Building wheel for data3500 (setup.py) ... \u001b[?25ldone\n",
      "\u001b[?25h  Created wheel for data3500: filename=data3500-0.0.3-cp37-none-any.whl size=9690 sha256=fd4c2b57f4efb1c9b5fdc47ca552a298b0f70951e54aaa2cbc796db7690a6b37\n",
      "  Stored in directory: /private/var/folders/mk/xybl65rx0vxcq605sd2tlrc00000gn/T/pip-ephem-wheel-cache-37_doam2/wheels/62/0d/05/e642f69b7486475b9e4ad34ee81af874d7595fd8b2f0e2ee8c\n",
      "Successfully built data3500\n",
      "Installing collected packages: data3500\n",
      "  Found existing installation: data3500 0.0.3\n",
      "    Uninstalling data3500-0.0.3:\n",
      "      Successfully uninstalled data3500-0.0.3\n",
      "Successfully installed data3500-0.0.3\n"
     ]
    }
   ],
   "source": [
    "%load_ext autoreload\n",
    "%autoreload 2\n",
    "\n",
    "!pip install --upgrade git+https://github.com/MTSUDataScience/DATA3500.git\n",
    "\n",
    "from course_solutions.Data3500_ICPS import *"
   ]
  },
  {
   "cell_type": "markdown",
   "metadata": {},
   "source": [
    "### **Try the following problem #1**\n",
    "\n",
    "- Import the csv file called **ex1** using pandas. Call this file **df**.\n",
    "- Import the csv file called **ex2** using pandas and allow pandas to assign headers automatically. Call this file **df_noheader**.\n",
    "- Import the csv file called **ex2** using pandas and assign header names yourself. Use the names **a, b, c, d, and message**. Call this file **df_header**.\n",
    "- Repeat the above steps and assign **message** to be the index using the **index_col** argument. Call this file **df_index**.\n",
    "\n",
    "If you want to see the solution to this problem, run the code **solution3_1()** in an empty cell."
   ]
  },
  {
   "cell_type": "code",
   "execution_count": 2,
   "metadata": {},
   "outputs": [
    {
     "name": "stdout",
     "output_type": "stream",
     "text": [
      "We import ex1 with: df = pd.read_csv('data/ex1.csv')\n",
      "We import ex2 with no headers with: df_noheader = pd.read_csv('data/ex2.csv', header=None)\n",
      "We import ex2 with our headers with: df_header = pd.read_csv('data/ex2.csv', names=['a', 'b', 'c', 'd', 'message'])\n",
      "We import ex2 and assign message to the index by adding ,index_col = 'message' to the end.\n",
      "\n",
      "df looks like:\n",
      "   a   b   c   d message\n",
      "0  1   2   3   4   hello\n",
      "1  5   6   7   8   world\n",
      "2  9  10  11  12     foo\n",
      "df_noheader looks like:\n",
      "   0   1   2   3      4\n",
      "0  1   2   3   4  hello\n",
      "1  5   6   7   8  world\n",
      "2  9  10  11  12    foo\n",
      "df_header looks like:\n",
      "   a   b   c   d message\n",
      "0  1   2   3   4   hello\n",
      "1  5   6   7   8   world\n",
      "2  9  10  11  12     foo\n",
      "df_index looks like:\n",
      "         a   b   c   d\n",
      "message               \n",
      "hello    1   2   3   4\n",
      "world    5   6   7   8\n",
      "foo      9  10  11  12\n"
     ]
    }
   ],
   "source": [
    "# Try your answer to problem #1 here.\n",
    "# Remember that you can get an answer by running solution3_1()\n",
    "# You can run the solution code by removing the '#' below and\n",
    "# then running this cell.\n",
    "\n",
    "solution3_1()"
   ]
  },
  {
   "cell_type": "markdown",
   "metadata": {},
   "source": [
    "### **Try the following problem #2**\n",
    "\n",
    "- Try to import the following .txt file that has no delimiter. Observe the data with the following code to determine if there is a way to identitfy the individual observations. **list(open('data/ex3.txt'))**\n",
    "- The fields are separated bya variable amount of white space. We can use this as our delimiter. Use **\\s+** as our method of identifying seperate observations. Open our text file with pandas read_Csv and add **sep='\\s+'** as an additional option.\n",
    "\n",
    "If you want to see the solution to this problem, run the code **solution3_2()** in an empty cell."
   ]
  },
  {
   "cell_type": "code",
   "execution_count": 3,
   "metadata": {},
   "outputs": [
    {
     "name": "stdout",
     "output_type": "stream",
     "text": [
      "We observe the data with: list(open('data/ex3.txt'))\n",
      "We use pandas to open the data with: result = pd.read_csv('data/ex3.txt', sep='\\s+')\n",
      "\n",
      "The raw data looks like:\n",
      "['            A         B         C\\n', 'aaa -0.264438 -1.026059 -0.619500\\n', 'bbb  0.927272  0.302904 -0.032399\\n', 'ccc -0.264273 -0.386314 -0.217601\\n', 'ddd -0.871858 -0.348382  1.100491\\n']\n",
      "The clean data looks like:\n",
      "            A         B         C\n",
      "aaa -0.264438 -1.026059 -0.619500\n",
      "bbb  0.927272  0.302904 -0.032399\n",
      "ccc -0.264273 -0.386314 -0.217601\n",
      "ddd -0.871858 -0.348382  1.100491\n"
     ]
    }
   ],
   "source": [
    "# Try your answer to problem #2 here.\n",
    "# Remember that you can get an answer by running solution3_2()\n",
    "# You can run the solution code by removing the '#' below and\n",
    "# then running this cell.\n",
    "    \n",
    "solution3_2()"
   ]
  },
  {
   "cell_type": "markdown",
   "metadata": {},
   "source": [
    "### **Try the following problem #3**\n",
    "\n",
    "- Use the dataframe **df** created below. \n",
    "- Fill all missing values with a value of 0.\n",
    "- Fill all missing values with a forward fill.\n",
    "- Use the **limit** option to limit the number of missing values that forward fill will fill to 2.\n",
    "- Fill all missing values with a backward fill.\n",
    "- Fill missing values with the mean value. You can use either method we discussed in class.\n",
    "\n",
    "If you want to see the solution to this problem, run the code solution3_3() in an empty cell."
   ]
  },
  {
   "cell_type": "code",
   "execution_count": 4,
   "metadata": {},
   "outputs": [
    {
     "name": "stdout",
     "output_type": "stream",
     "text": [
      "We fill values with a 0 with: df.fillna(0)\n",
      "We fill values with a forward fill with: df.fillna(method='ffill')\n",
      "We fill values with a limited forward fill with: df.fillna(method='ffill', limit=2)\n",
      "We fill values with a back fill with: df.fillna(method='bfill')\n",
      "We fill values with the mean with: df.fillna(df.mean())\n",
      "\n",
      "The original data frame looks like:\n",
      "          0         1         2\n",
      "0 -2.401224  0.845181  1.509262\n",
      "1  2.472575       NaN       NaN\n",
      "2 -1.110368       NaN  0.255749\n",
      "3 -1.398868       NaN  0.825088\n",
      "4 -1.656586 -0.235570 -0.299403\n",
      "5  1.105117  0.585462  1.548140\n",
      "6  0.640985 -0.022677  0.224240\n",
      "The 0 fill looks like:\n",
      "          0         1         2\n",
      "0 -2.401224  0.845181  1.509262\n",
      "1  2.472575  0.000000  0.000000\n",
      "2 -1.110368  0.000000  0.255749\n",
      "3 -1.398868  0.000000  0.825088\n",
      "4 -1.656586 -0.235570 -0.299403\n",
      "5  1.105117  0.585462  1.548140\n",
      "6  0.640985 -0.022677  0.224240\n",
      "The forward fill looks like:\n",
      "          0         1         2\n",
      "0 -2.401224  0.845181  1.509262\n",
      "1  2.472575  0.845181  1.509262\n",
      "2 -1.110368  0.845181  0.255749\n",
      "3 -1.398868  0.845181  0.825088\n",
      "4 -1.656586 -0.235570 -0.299403\n",
      "5  1.105117  0.585462  1.548140\n",
      "6  0.640985 -0.022677  0.224240\n",
      "The limited forward fill looks like:\n",
      "          0         1         2\n",
      "0 -2.401224  0.845181  1.509262\n",
      "1  2.472575  0.845181  1.509262\n",
      "2 -1.110368  0.845181  0.255749\n",
      "3 -1.398868       NaN  0.825088\n",
      "4 -1.656586 -0.235570 -0.299403\n",
      "5  1.105117  0.585462  1.548140\n",
      "6  0.640985 -0.022677  0.224240\n",
      "The back fill looks like:\n",
      "          0         1         2\n",
      "0 -2.401224  0.845181  1.509262\n",
      "1  2.472575 -0.235570  0.255749\n",
      "2 -1.110368 -0.235570  0.255749\n",
      "3 -1.398868 -0.235570  0.825088\n",
      "4 -1.656586 -0.235570 -0.299403\n",
      "5  1.105117  0.585462  1.548140\n",
      "6  0.640985 -0.022677  0.224240\n"
     ]
    }
   ],
   "source": [
    "# Try your answer to problem #3 here.\n",
    "# Remember that you can get an answer by running solution3_3()\n",
    "# You can run the solution code by removing the '#' below and\n",
    "# then running this cell.\n",
    "\n",
    "df = pd.DataFrame(np.random.randn(7,3))\n",
    "df.iloc[1:4, 1] = np.nan\n",
    "df.iloc[1:2, 2] = np.nan\n",
    "    \n",
    "solution3_3()    "
   ]
  },
  {
   "cell_type": "markdown",
   "metadata": {},
   "source": [
    "### **Try the following problem #4**\n",
    "\n",
    "- We will now focus on missing data. Open the csv file **ex5** and observe the missing observations. How does pandas identify them?\n",
    "- Suppose we also want observations within the **message** column that are equal to **foo** to display a missing value. Create a dictionary that specifies which values in **message** you want to be identified as missing. Call this dictionary **add_missing**. Use this dictionary as an additional argument within **read_csv** as **na_values = add_missing**.\n",
    "\n",
    "If you want to see the solution to this problem, run the code solution3_4() in an empty cell."
   ]
  },
  {
   "cell_type": "code",
   "execution_count": 5,
   "metadata": {},
   "outputs": [
    {
     "name": "stdout",
     "output_type": "stream",
     "text": [
      "We examine ex5 with: pd.read_csv('data/ex5.csv')\n",
      "We create our additional missing values with: add_missing = {'message': ['foo']}\n",
      "We import the data with: pd.read_csv('data/ex5.csv', na_values = add_missing)\n",
      "\n",
      "The original results look like:\n",
      "  something  a   b     c   d message\n",
      "0       one  1   2   3.0   4     NaN\n",
      "1       two  5   6   NaN   8   world\n",
      "2     three  9  10  11.0  12     foo\n",
      "The new results look like:\n",
      "  something  a   b     c   d message\n",
      "0       one  1   2   3.0   4     NaN\n",
      "1       two  5   6   NaN   8   world\n",
      "2     three  9  10  11.0  12     NaN\n"
     ]
    }
   ],
   "source": [
    "# Try your answer to problem #4 here.\n",
    "# Remember that you can get an answer by running solution3_4()\n",
    "# You can run the solution code by removing the '#' below and\n",
    "# then running this cell.\n",
    "        \n",
    "solution3_4()"
   ]
  },
  {
   "cell_type": "markdown",
   "metadata": {},
   "source": [
    "### **Try the following problem #5**\n",
    "\n",
    "- Use the provided dataframe to calculate the mean population value by state.\n",
    "- Calculate the state/year average population.\n",
    "- Calculate the standard deviation of state populations using the **std** aggregation method instead of **mean**.\n",
    "- Backfill missing tip data from the data frame **small_tip** provided below. Be sure to fill by smoker status only. This does should fill in the values on the original dataframe.\n",
    "\n",
    "If you want to see the solution to this problem, run the code solution3_5() in an empty cell."
   ]
  },
  {
   "cell_type": "code",
   "execution_count": 6,
   "metadata": {},
   "outputs": [
    {
     "name": "stdout",
     "output_type": "stream",
     "text": [
      "We get the state average with: states['pop'].groupby(states['state']).mean()\n",
      "We get the state/year average with: states['pop'].groupby([states['state'], states['year']]).mean()\n",
      "We get the state standard deviation with: states['pop'].groupby(states['state']).std()\n",
      "We backfill by smoker in the original data frame with: small_tip['tip'] = small_tip['tip'].groupby(small_tip['smoker']).fillna(method='bfill')\n",
      "\n",
      "The state average is:\n",
      "state\n",
      "California    6.033333\n",
      "Ohio          4.000000\n",
      "Name: pop, dtype: float64\n",
      "The state/year average is:\n",
      "state       year\n",
      "California  2005    7.20\n",
      "            2006    5.45\n",
      "Ohio        2005    2.20\n",
      "            2006    7.70\n",
      "            2007    2.10\n",
      "Name: pop, dtype: float64\n",
      "The state standard deviation is: state\n",
      "California    2.466441\n",
      "Ohio          3.204684\n",
      "Name: pop, dtype: float64\n",
      "The original data frame looks like:\n",
      "    total_bill   tip smoker  day    time  size\n",
      "0        16.99  1.01     No  Sun  Dinner     2\n",
      "1        10.34  1.66     No  Sun  Dinner     3\n",
      "2        21.01   NaN     No  Sun  Dinner     3\n",
      "3        23.68   NaN     No  Sun  Dinner     2\n",
      "4        24.59  3.61     No  Sun  Dinner     4\n",
      "5        25.29  4.71     No  Sun  Dinner     4\n",
      "6         8.77   NaN     No  Sun  Dinner     2\n",
      "7        26.88   NaN     No  Sun  Dinner     4\n",
      "8        15.04   NaN     No  Sun  Dinner     2\n",
      "9        14.78   NaN     No  Sun  Dinner     2\n",
      "10       10.27   NaN     No  Sun  Dinner     2\n",
      "11       35.26   NaN     No  Sun  Dinner     4\n",
      "12       15.42   NaN     No  Sun  Dinner     2\n",
      "13       18.43   NaN     No  Sun  Dinner     4\n",
      "14       14.83   NaN     No  Sun  Dinner     2\n",
      "15       21.58   NaN     No  Sun  Dinner     2\n",
      "16       10.33   NaN    Yes  Sun  Dinner     3\n",
      "17       16.29   NaN    Yes  Sun  Dinner     3\n",
      "18       16.97   NaN    Yes  Sun  Dinner     3\n",
      "19       20.65   NaN    Yes  Sat  Dinner     3\n",
      "20       17.92   NaN    Yes  Sat  Dinner     2\n",
      "21       20.29  2.75    Yes  Sat  Dinner     2\n",
      "22       15.77  2.23    Yes  Sat  Dinner     2\n",
      "23       39.42   NaN    Yes  Sat  Dinner     4\n",
      "24       19.82   NaN    Yes  Sat  Dinner     2\n",
      "The backfilled by smoker data is:\n",
      "    total_bill   tip smoker  day    time  size\n",
      "0        16.99  1.01     No  Sun  Dinner     2\n",
      "1        10.34  1.66     No  Sun  Dinner     3\n",
      "2        21.01  3.61     No  Sun  Dinner     3\n",
      "3        23.68  3.61     No  Sun  Dinner     2\n",
      "4        24.59  3.61     No  Sun  Dinner     4\n",
      "5        25.29  4.71     No  Sun  Dinner     4\n",
      "6         8.77   NaN     No  Sun  Dinner     2\n",
      "7        26.88   NaN     No  Sun  Dinner     4\n",
      "8        15.04   NaN     No  Sun  Dinner     2\n",
      "9        14.78   NaN     No  Sun  Dinner     2\n",
      "10       10.27   NaN     No  Sun  Dinner     2\n",
      "11       35.26   NaN     No  Sun  Dinner     4\n",
      "12       15.42   NaN     No  Sun  Dinner     2\n",
      "13       18.43   NaN     No  Sun  Dinner     4\n",
      "14       14.83   NaN     No  Sun  Dinner     2\n",
      "15       21.58   NaN     No  Sun  Dinner     2\n",
      "16       10.33  2.75    Yes  Sun  Dinner     3\n",
      "17       16.29  2.75    Yes  Sun  Dinner     3\n",
      "18       16.97  2.75    Yes  Sun  Dinner     3\n",
      "19       20.65  2.75    Yes  Sat  Dinner     3\n",
      "20       17.92  2.75    Yes  Sat  Dinner     2\n",
      "21       20.29  2.75    Yes  Sat  Dinner     2\n",
      "22       15.77  2.23    Yes  Sat  Dinner     2\n",
      "23       39.42   NaN    Yes  Sat  Dinner     4\n",
      "24       19.82   NaN    Yes  Sat  Dinner     2\n"
     ]
    },
    {
     "name": "stderr",
     "output_type": "stream",
     "text": [
      "/Users/sarashirley/opt/anaconda3/lib/python3.7/site-packages/pandas/core/indexing.py:494: SettingWithCopyWarning: \n",
      "A value is trying to be set on a copy of a slice from a DataFrame.\n",
      "Try using .loc[row_indexer,col_indexer] = value instead\n",
      "\n",
      "See the caveats in the documentation: http://pandas.pydata.org/pandas-docs/stable/user_guide/indexing.html#returning-a-view-versus-a-copy\n",
      "  self.obj[item] = s\n",
      "/Users/sarashirley/opt/anaconda3/lib/python3.7/site-packages/course_solutions/Data3500_ICPS.py:805: SettingWithCopyWarning: \n",
      "A value is trying to be set on a copy of a slice from a DataFrame.\n",
      "Try using .loc[row_indexer,col_indexer] = value instead\n",
      "\n",
      "See the caveats in the documentation: http://pandas.pydata.org/pandas-docs/stable/user_guide/indexing.html#returning-a-view-versus-a-copy\n",
      "  small_tip['tip'] = small_tip['tip'].groupby(small_tip['smoker']).fillna(method='bfill')\n"
     ]
    }
   ],
   "source": [
    "# Try your answer to problem #5 here.\n",
    "# Remember that you can get an answer by running solution3_5()\n",
    "# You can run the solution code by removing the '#' below and\n",
    "# then running this cell.\n",
    "\n",
    "states = pd.DataFrame({'state': ['Ohio', 'California', 'California', 'Ohio', 'Ohio','California'],\n",
    "                       'year' : ['2005', '2005', '2006', '2006', '2007','2006'],\n",
    "                       'pop': [2.2, 7.2, 3.2, 7.7, 2.1, 7.7]})\n",
    "tips = pd.read_csv('data/tips.txt')\n",
    "small_tip = tips[: 25]\n",
    "small_tip.iloc[16::, [2]] = 'Yes'\n",
    "small_tip.iloc[2:4, [1]] = np.nan\n",
    "small_tip.iloc[6:21, [1]] = np.nan\n",
    "small_tip.iloc[23::, [1]] = np.nan\n",
    "    \n",
    "solution3_5()"
   ]
  },
  {
   "cell_type": "markdown",
   "metadata": {},
   "source": [
    "### **Try the following problem #6**\n",
    "\n",
    "- Using the provided dataframe, **melt** the dataframe on **key**. Call this new dataframe **df_melted**.\n",
    "- Using **pivot**, convert the dataframe back to the original version. Call this **df_original**.\n",
    "- **df_original** now has an index from the column used as row labels. Convert this into column titles with **reset_index()**.\n",
    "\n",
    "If you want to see the solution to this problem, run the code solution3_6() in an empty cell."
   ]
  },
  {
   "cell_type": "code",
   "execution_count": 7,
   "metadata": {},
   "outputs": [
    {
     "name": "stdout",
     "output_type": "stream",
     "text": [
      "We can melt the dataframe with: df_melted = pd.melt(df, ['key'])\n",
      "We can go back to the original with: df_original = df_melted.pivot(index='key', columns='variable', values='value')\n",
      "We can reset the index with: df_original = df_original.reset_index()\n",
      "\n",
      "The melted dataframe looks like:\n",
      "   key variable  value\n",
      "0  foo        A      1\n",
      "1  bar        A      2\n",
      "2  baz        A      3\n",
      "3  foo        B      4\n",
      "4  bar        B      5\n",
      "5  baz        B      6\n",
      "6  foo        C      7\n",
      "7  bar        C      8\n",
      "8  baz        C      9\n",
      "The final version of df_original looks like:\n",
      "variable  key  A  B  C\n",
      "0         bar  2  5  8\n",
      "1         baz  3  6  9\n",
      "2         foo  1  4  7\n"
     ]
    }
   ],
   "source": [
    "# Try your answer to problem #6 here.\n",
    "# Remember that you can get an answer by running solution3_6()\n",
    "# You can run the solution code by removing the '#' below and\n",
    "# then running this cell.\n",
    "\n",
    "df = pd.DataFrame({'key': ['foo', 'bar', 'baz'],\n",
    "                  'A': [1,2,3],\n",
    "                  'B': [4,5,6],\n",
    "                  'C': [7,8,9]})\n",
    "\n",
    "solution3_6()"
   ]
  },
  {
   "cell_type": "markdown",
   "metadata": {},
   "source": [
    "### **Try the following problem #7**\n",
    "\n",
    "- With the provided dataframe, merge on lkey and rkey.\n",
    "- Notice that values for c and d are missing. The default merge is an 'inner' join. Remerge the data with an 'outer' join and notice the difference.\n",
    "\n",
    "If you want to see the solution to this problem, run the code solution3_6() in an empty cell."
   ]
  },
  {
   "cell_type": "code",
   "execution_count": 8,
   "metadata": {},
   "outputs": [
    {
     "name": "stdout",
     "output_type": "stream",
     "text": [
      "We can merge these two with: pd.merge(df1, df2, left_on='lkey', right_on='rkey')\n",
      "We can do an outer merge with: pd.merge(df1, df2, left_on='lkey', right_on='rkey', how='outer')\n",
      "\n",
      "The merged dataframe looks like:\n",
      "  lkey  data1 rkey  data2\n",
      "0    b      0    b      1\n",
      "1    b      1    b      1\n",
      "2    b      6    b      1\n",
      "3    a      2    a      0\n",
      "4    a      4    a      0\n",
      "5    a      5    a      0\n",
      "The outer merge looks like:\n",
      "  lkey  data1 rkey  data2\n",
      "0    b    0.0    b    1.0\n",
      "1    b    1.0    b    1.0\n",
      "2    b    6.0    b    1.0\n",
      "3    a    2.0    a    0.0\n",
      "4    a    4.0    a    0.0\n",
      "5    a    5.0    a    0.0\n",
      "6    c    3.0  NaN    NaN\n",
      "7  NaN    NaN    d    2.0\n"
     ]
    }
   ],
   "source": [
    "# Try your answer to problem #7 here.\n",
    "# Remember that you can get an answer by running solution3_7()\n",
    "# You can run the solution code by removing the '#' below and\n",
    "# then running this cell.\n",
    "\n",
    "df1 = pd.DataFrame({'lkey': ['b','b','a','c','a','a','b'],\n",
    "                   'data1': range(7)})\n",
    "df2 = pd.DataFrame({'rkey': ['a','b','d'],\n",
    "                   'data2': range(3)})\n",
    "    \n",
    "solution3_7()    "
   ]
  },
  {
   "cell_type": "code",
   "execution_count": null,
   "metadata": {},
   "outputs": [],
   "source": []
  }
 ],
 "metadata": {
  "kernelspec": {
   "display_name": "Python 3",
   "language": "python",
   "name": "python3"
  },
  "language_info": {
   "codemirror_mode": {
    "name": "ipython",
    "version": 3
   },
   "file_extension": ".py",
   "mimetype": "text/x-python",
   "name": "python",
   "nbconvert_exporter": "python",
   "pygments_lexer": "ipython3",
   "version": "3.7.4"
  }
 },
 "nbformat": 4,
 "nbformat_minor": 2
}
